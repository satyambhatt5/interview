{
  "nbformat": 4,
  "nbformat_minor": 0,
  "metadata": {
    "kernelspec": {
      "display_name": "Python 3.8.5 64-bit (conda)",
      "language": "python",
      "name": "python385jvsc74a57bd06ad2903d9f8eb78095a8e1054d3b7d96029c25240c1559c5c7674409ebbac066"
    },
    "language_info": {
      "codemirror_mode": {
        "name": "ipython",
        "version": 3
      },
      "file_extension": ".py",
      "mimetype": "text/x-python",
      "name": "python",
      "nbconvert_exporter": "python",
      "pygments_lexer": "ipython3",
      "version": "3.8.5"
    },
    "colab": {
      "name": "SQL connector .ipynb",
      "provenance": [],
      "include_colab_link": true
    }
  },
  "cells": [
    {
      "cell_type": "markdown",
      "metadata": {
        "id": "view-in-github",
        "colab_type": "text"
      },
      "source": [
        "<a href=\"https://colab.research.google.com/github/satyambhatt5/interview/blob/master/SQL_connector_.ipynb\" target=\"_parent\"><img src=\"https://colab.research.google.com/assets/colab-badge.svg\" alt=\"Open In Colab\"/></a>"
      ]
    },
    {
      "cell_type": "code",
      "metadata": {
        "colab": {
          "base_uri": "https://localhost:8080/"
        },
        "id": "TcWq4jHeLUw5",
        "outputId": "9a240c68-263e-4859-8d4d-dd66783ade42"
      },
      "source": [
        "!pip install mysql-connector-python"
      ],
      "execution_count": null,
      "outputs": [
        {
          "output_type": "stream",
          "name": "stdout",
          "text": [
            "Collecting mysql-connector-python\n",
            "  Downloading mysql_connector_python-8.0.27-1commercial-cp37-cp37m-manylinux1_x86_64.whl (37.5 MB)\n",
            "\u001b[K     |████████████████████████████████| 37.5 MB 57 kB/s \n",
            "\u001b[?25hRequirement already satisfied: protobuf>=3.0.0 in /usr/local/lib/python3.7/dist-packages (from mysql-connector-python) (3.17.3)\n",
            "Requirement already satisfied: six>=1.9 in /usr/local/lib/python3.7/dist-packages (from protobuf>=3.0.0->mysql-connector-python) (1.15.0)\n",
            "Installing collected packages: mysql-connector-python\n",
            "Successfully installed mysql-connector-python-8.0.27\n"
          ]
        }
      ]
    },
    {
      "cell_type": "code",
      "metadata": {
        "id": "S6fs6WJQKxZA"
      },
      "source": [
        "import mysql.connector \n",
        "from mysql.connector import Error\n",
        "import pandas as pd"
      ],
      "execution_count": null,
      "outputs": []
    },
    {
      "cell_type": "code",
      "metadata": {
        "colab": {
          "base_uri": "https://localhost:8080/"
        },
        "id": "OmuDhRhFKxZH",
        "outputId": "05d1201b-7592-44d1-929f-ed403583f942"
      },
      "source": [
        "#my_db= mysql.connector.connect(host=\"localhost\",user=\"root\",password=\"98079710s@B\",database=\"testdb2\")\n",
        "\n",
        "def create_server_connection(host_name, user_name, user_password):\n",
        "    connection = None\n",
        "    try:\n",
        "        connection = mysql.connector.connect(\n",
        "            host=host_name,\n",
        "            user=user_name,\n",
        "            passwd=user_password\n",
        "        )\n",
        "        print(\"MySQL Database connection successful\")\n",
        "    except Error as err:\n",
        "        print(f\"Error: '{err}'\")\n",
        "\n",
        "    return connection\n",
        "\n",
        "pw = \"1234\" # IMPORTANT! Put your MySQL Terminal password here.\n",
        "db = \"classicmodels\" # This is the name of the database we will create in the next step - call it whatever you like.\n",
        "\n",
        "connection = create_server_connection(\"localhost\", \"root\", pw)"
      ],
      "execution_count": null,
      "outputs": [
        {
          "output_type": "stream",
          "name": "stdout",
          "text": [
            "Error: '2003 (HY000): Can't connect to MySQL server on 'localhost:3306' (99)'\n"
          ]
        }
      ]
    },
    {
      "cell_type": "code",
      "metadata": {
        "id": "qIYt0IF-KxZJ",
        "outputId": "9239d2a5-2b52-4162-c527-1d9823b559f6"
      },
      "source": [
        "def create_database(connection, query):\n",
        "    cursor = connection.cursor()\n",
        "    try:\n",
        "        cursor.execute(query)\n",
        "        print(\"Database created successfully\")\n",
        "    except Error as err:\n",
        "        print(f\"Error: '{err}'\")\n",
        "\n",
        "create_database_query = \"CREATE DATABASE school\"\n",
        "create_database(connection, create_database_query)"
      ],
      "execution_count": null,
      "outputs": [
        {
          "name": "stdout",
          "output_type": "stream",
          "text": [
            "Error: '1007 (HY000): Can't create database 'school'; database exists'\n"
          ]
        }
      ]
    },
    {
      "cell_type": "code",
      "metadata": {
        "id": "_1eoWsBQKxZJ"
      },
      "source": [
        "\n",
        "#2.3 - Modify Server Connection Function, Create Database Connection Function\n",
        "#Now that we've created a DB, let's modify our create_server_connection function to create a new function for connecting directly to that DB. This will prove more useful than j\n",
        "#ust connecting to our server.\n",
        "\n",
        "def create_db_connection(host_name, user_name, user_password, db_name):\n",
        "    connection = None\n",
        "    try:\n",
        "        connection = mysql.connector.connect(\n",
        "            host=host_name,\n",
        "            user=user_name,\n",
        "            passwd=user_password,\n",
        "            database=db_name\n",
        "        )\n",
        "        print(\"MySQL Database connection successful\")\n",
        "    except Error as err:\n",
        "        print(f\"Error: '{err}'\")\n",
        "\n",
        "    return connection"
      ],
      "execution_count": null,
      "outputs": []
    },
    {
      "cell_type": "code",
      "metadata": {
        "id": "K-R01zwLKxZK"
      },
      "source": [
        "def execute_query(connection, query):\n",
        "    cursor = connection.cursor()\n",
        "    try:\n",
        "        cursor.execute(query)\n",
        "        connection.commit()\n",
        "        print(\"Query successful\")\n",
        "    except Error as err:\n",
        "        print(f\"Error: '{err}'\")\n"
      ],
      "execution_count": null,
      "outputs": []
    },
    {
      "cell_type": "code",
      "metadata": {
        "id": "eZ0qLPzxKxZL",
        "outputId": "ceca089c-edf4-460a-9eb2-cd656a69acf2"
      },
      "source": [
        "# Assign our SQL command to a python variable using triple quotes to create a multi-line string\n",
        "create_teacher_table = \"\"\"\n",
        "CREATE TABLE teacher (\n",
        "  teacher_id INT PRIMARY KEY,\n",
        "  first_name VARCHAR(40) NOT NULL,\n",
        "  last_name VARCHAR(40) NOT NULL,\n",
        "  language_1 VARCHAR(3) NOT NULL,\n",
        "  language_2 VARCHAR(3),\n",
        "  dob DATE,\n",
        "  tax_id INT UNIQUE,\n",
        "  phone_no VARCHAR(20)\n",
        "  );\n",
        " \"\"\"\n",
        "\n",
        "connection = create_db_connection(\"localhost\", \"root\", pw, db) # Connect to the Database\n",
        "execute_query(connection, create_teacher_table) # Execute our defined query"
      ],
      "execution_count": null,
      "outputs": [
        {
          "name": "stdout",
          "output_type": "stream",
          "text": [
            "MySQL Database connection successful\n",
            "Query successful\n"
          ]
        }
      ]
    },
    {
      "cell_type": "code",
      "metadata": {
        "id": "iQ-d_RnoKxZL",
        "outputId": "789675de-5568-4033-8a5f-3b150e07915d"
      },
      "source": [
        "create_client_table = \"\"\"\n",
        "CREATE TABLE client (\n",
        "  client_id INT PRIMARY KEY,\n",
        "  client_name VARCHAR(40) NOT NULL,\n",
        "  address VARCHAR(60) NOT NULL,\n",
        "  industry VARCHAR(20)\n",
        ");\n",
        " \"\"\"\n",
        "\n",
        "create_participant_table = \"\"\"\n",
        "CREATE TABLE participant (\n",
        "  participant_id INT PRIMARY KEY,\n",
        "  first_name VARCHAR(40) NOT NULL,\n",
        "  last_name VARCHAR(40) NOT NULL,\n",
        "  phone_no VARCHAR(20),\n",
        "  client INT\n",
        ");\n",
        "\"\"\"\n",
        "\n",
        "create_course_table = \"\"\"\n",
        "CREATE TABLE course (\n",
        "  course_id INT PRIMARY KEY,\n",
        "  course_name VARCHAR(40) NOT NULL,\n",
        "  language VARCHAR(3) NOT NULL,\n",
        "  level VARCHAR(2),\n",
        "  course_length_weeks INT,\n",
        "  start_date DATE,\n",
        "  in_school BOOLEAN,\n",
        "  teacher INT,\n",
        "  client INT\n",
        ");\n",
        "\"\"\"\n",
        "\n",
        "\n",
        "connection = create_db_connection(\"localhost\", \"root\", pw, db)\n",
        "execute_query(connection, create_client_table)\n",
        "execute_query(connection, create_participant_table)\n",
        "execute_query(connection, create_course_table)"
      ],
      "execution_count": null,
      "outputs": [
        {
          "name": "stdout",
          "output_type": "stream",
          "text": [
            "MySQL Database connection successful\n",
            "Query successful\n",
            "Query successful\n",
            "Query successful\n"
          ]
        }
      ]
    },
    {
      "cell_type": "code",
      "metadata": {
        "id": "2a-rgQsjKxZM",
        "outputId": "88bfaee8-6eec-4b41-e5ab-c387165f4dce"
      },
      "source": [
        "\n",
        "\"\"\"3.3 - Define Foreign Key Relationships\n",
        "Now altering the tables to create Foreign Key relationships (see the accompanying SQL Tutorial Series on Towards\n",
        "Data Science for the background on all of this), and creating our final table, takes_course\"\"\""
      ],
      "execution_count": null,
      "outputs": [
        {
          "data": {
            "text/plain": [
              "'3.3 - Define Foreign Key Relationships\\nNow altering the tables to create Foreign Key relationships (see the accompanying SQL Tutorial Series on Towards\\nData Science for the background on all of this), and creating our final table, takes_course'"
            ]
          },
          "execution_count": 46,
          "metadata": {},
          "output_type": "execute_result"
        }
      ]
    },
    {
      "cell_type": "code",
      "metadata": {
        "id": "SMK-vJ_wKxZN",
        "outputId": "d2be464a-1fb3-4bbc-e9bc-9bf1b0564c3b"
      },
      "source": [
        "alter_participant = \"\"\"\n",
        "ALTER TABLE participant\n",
        "ADD FOREIGN KEY(client)\n",
        "REFERENCES client(client_id)\n",
        "ON DELETE SET NULL;\n",
        "\"\"\"\n",
        "\n",
        "alter_course = \"\"\"\n",
        "ALTER TABLE course\n",
        "ADD FOREIGN KEY(teacher)\n",
        "REFERENCES teacher(teacher_id)\n",
        "ON DELETE SET NULL;\n",
        "\"\"\"\n",
        "\n",
        "alter_course_again = \"\"\"\n",
        "ALTER TABLE course\n",
        "ADD FOREIGN KEY(client)\n",
        "REFERENCES client(client_id)\n",
        "ON DELETE SET NULL;\n",
        "\"\"\"\n",
        "\n",
        "create_takescourse_table = \"\"\"\n",
        "CREATE TABLE takes_course (\n",
        "  participant_id INT,\n",
        "  course_id INT,\n",
        "  PRIMARY KEY(participant_id, course_id),\n",
        "  FOREIGN KEY(participant_id) REFERENCES participant(participant_id) ON DELETE CASCADE, -- it makes no sense to keep this rtelation when a participant or course is no longer in the system, hence why CASCADE this time\n",
        "  FOREIGN KEY(course_id) REFERENCES course(course_id) ON DELETE CASCADE\n",
        ");\n",
        "\"\"\"\n",
        "\n",
        "connection = create_db_connection(\"localhost\", \"root\", pw, db)\n",
        "execute_query(connection, alter_participant)\n",
        "execute_query(connection, alter_course)\n",
        "execute_query(connection, alter_course_again)\n",
        "execute_query(connection, create_takescourse_table)"
      ],
      "execution_count": null,
      "outputs": [
        {
          "name": "stdout",
          "output_type": "stream",
          "text": [
            "MySQL Database connection successful\n",
            "Query successful\n",
            "Query successful\n",
            "Query successful\n",
            "Query successful\n"
          ]
        }
      ]
    },
    {
      "cell_type": "code",
      "metadata": {
        "id": "3U8EJi9cKxZO",
        "outputId": "7ea0843d-4ad8-44aa-e7c1-870e7a804d99"
      },
      "source": [
        "pop_teacher = \"\"\"\n",
        "INSERT INTO teacher VALUES\n",
        "(1,  'James', 'Smith', 'ENG', NULL, '1985-04-20', 12345, '+491774553676'),\n",
        "(2, 'Stefanie',  'Martin',  'FRA', NULL,  '1970-02-17', 23456, '+491234567890'), \n",
        "(3, 'Steve', 'Wang',  'MAN', 'ENG', '1990-11-12', 34567, '+447840921333'),\n",
        "(4, 'Friederike',  'Müller-Rossi', 'DEU', 'ITA', '1987-07-07',  45678, '+492345678901'),\n",
        "(5, 'Isobel', 'Ivanova', 'RUS', 'ENG', '1963-05-30',  56789, '+491772635467'),\n",
        "(6, 'Niamh', 'Murphy', 'ENG', 'IRI', '1995-09-08',  67890, '+491231231232');\n",
        "\"\"\"\n",
        "\n",
        "connection = create_db_connection(\"localhost\", \"root\", pw, db)\n",
        "execute_query(connection, pop_teacher)\n"
      ],
      "execution_count": null,
      "outputs": [
        {
          "name": "stdout",
          "output_type": "stream",
          "text": [
            "MySQL Database connection successful\n",
            "Query successful\n"
          ]
        }
      ]
    },
    {
      "cell_type": "code",
      "metadata": {
        "id": "ZdanAMtmKxZP",
        "outputId": "71ef428b-4db7-4879-de69-a78372544afe"
      },
      "source": [
        "pop_client = \"\"\"\n",
        "INSERT INTO client VALUES\n",
        "(101, 'Big Business Federation', '123 Falschungstraße, 10999 Berlin', 'NGO'),\n",
        "(102, 'eCommerce GmbH', '27 Ersatz Allee, 10317 Berlin', 'Retail'),\n",
        "(103, 'AutoMaker AG',  '20 Künstlichstraße, 10023 Berlin', 'Auto'),\n",
        "(104, 'Banko Bank',  '12 Betrugstraße, 12345 Berlin', 'Banking'),\n",
        "(105, 'WeMoveIt GmbH', '138 Arglistweg, 10065 Berlin', 'Logistics');\n",
        "\"\"\"\n",
        "\n",
        "pop_participant = \"\"\"\n",
        "INSERT INTO participant VALUES\n",
        "(101, 'Marina', 'Berg','491635558182', 101),\n",
        "(102, 'Andrea', 'Duerr', '49159555740', 101),\n",
        "(103, 'Philipp', 'Probst',  '49155555692', 102),\n",
        "(104, 'René',  'Brandt',  '4916355546',  102),\n",
        "(105, 'Susanne', 'Shuster', '49155555779', 102),\n",
        "(106, 'Christian', 'Schreiner', '49162555375', 101),\n",
        "(107, 'Harry', 'Kim', '49177555633', 101),\n",
        "(108, 'Jan', 'Nowak', '49151555824', 101),\n",
        "(109, 'Pablo', 'Garcia',  '49162555176', 101),\n",
        "(110, 'Melanie', 'Dreschler', '49151555527', 103),\n",
        "(111, 'Dieter', 'Durr',  '49178555311', 103),\n",
        "(112, 'Max', 'Mustermann', '49152555195', 104),\n",
        "(113, 'Maxine', 'Mustermann', '49177555355', 104),\n",
        "(114, 'Heiko', 'Fleischer', '49155555581', 105);\n",
        "\"\"\"\n",
        "\n",
        "pop_course = \"\"\"\n",
        "INSERT INTO course VALUES\n",
        "(12, 'English for Logistics', 'ENG', 'A1', 10, '2020-02-01', TRUE,  1, 105),\n",
        "(13, 'Beginner English', 'ENG', 'A2', 40, '2019-11-12',  FALSE, 6, 101),\n",
        "(14, 'Intermediate English', 'ENG', 'B2', 40, '2019-11-12', FALSE, 6, 101),\n",
        "(15, 'Advanced English', 'ENG', 'C1', 40, '2019-11-12', FALSE, 6, 101),\n",
        "(16, 'Mandarin für Autoindustrie', 'MAN', 'B1', 15, '2020-01-15', TRUE, 3, 103),\n",
        "(17, 'Français intermédiaire', 'FRA', 'B1',  18, '2020-04-03', FALSE, 2, 101),\n",
        "(18, 'Deutsch für Anfänger', 'DEU', 'A2', 8, '2020-02-14', TRUE, 4, 102),\n",
        "(19, 'Intermediate English', 'ENG', 'B2', 10, '2020-03-29', FALSE, 1, 104),\n",
        "(20, 'Fortgeschrittenes Russisch', 'RUS', 'C1',  4, '2020-04-08',  FALSE, 5, 103);\n",
        "\"\"\"\n",
        "\n",
        "pop_takescourse = \"\"\"\n",
        "INSERT INTO takes_course VALUES\n",
        "(101, 15),\n",
        "(101, 17),\n",
        "(102, 17),\n",
        "(103, 18),\n",
        "(104, 18),\n",
        "(105, 18),\n",
        "(106, 13),\n",
        "(107, 13),\n",
        "(108, 13),\n",
        "(109, 14),\n",
        "(109, 15),\n",
        "(110, 16),\n",
        "(110, 20),\n",
        "(111, 16),\n",
        "(114, 12),\n",
        "(112, 19),\n",
        "(113, 19);\n",
        "\"\"\"\n",
        "\n",
        "connection = create_db_connection(\"localhost\", \"root\", pw, db)\n",
        "execute_query(connection, pop_client)\n",
        "execute_query(connection, pop_participant)\n",
        "execute_query(connection, pop_course)\n",
        "execute_query(connection, pop_takescourse)"
      ],
      "execution_count": null,
      "outputs": [
        {
          "name": "stdout",
          "output_type": "stream",
          "text": [
            "MySQL Database connection successful\n",
            "Query successful\n",
            "Query successful\n",
            "Query successful\n",
            "Query successful\n"
          ]
        }
      ]
    },
    {
      "cell_type": "code",
      "metadata": {
        "id": "2LBLSEwLKxZP"
      },
      "source": [
        "def read_query(connection, query):\n",
        "    cursor = connection.cursor()\n",
        "    result = None\n",
        "    try:\n",
        "        cursor.execute(query)\n",
        "        result = cursor.fetchall()\n",
        "        return result\n",
        "    except Error as err:\n",
        "        print(f\"Error: '{err}'\")"
      ],
      "execution_count": null,
      "outputs": []
    },
    {
      "cell_type": "code",
      "metadata": {
        "id": "Xb4F7NZXKxZQ",
        "outputId": "b5df3183-df9d-46b8-851a-d9f6e2e2127e"
      },
      "source": [
        "q1 = \"\"\"\n",
        "SELECT *\n",
        "FROM teacher;\n",
        "\"\"\"\n",
        "\n",
        "connection = create_db_connection(\"localhost\", \"root\", pw, db)\n",
        "results = read_query(connection, q1)\n",
        "\n",
        "for result in results:\n",
        "  print(result)"
      ],
      "execution_count": null,
      "outputs": [
        {
          "name": "stdout",
          "output_type": "stream",
          "text": [
            "MySQL Database connection successful\n",
            "(1, 'James', 'Smith', 'ENG', None, datetime.date(1985, 4, 20), 12345, '+491774553676')\n",
            "(2, 'Stefanie', 'Martin', 'FRA', None, datetime.date(1970, 2, 17), 23456, '+491234567890')\n",
            "(3, 'Steve', 'Wang', 'MAN', 'ENG', datetime.date(1990, 11, 12), 34567, '+447840921333')\n",
            "(4, 'Friederike', 'Müller-Rossi', 'DEU', 'ITA', datetime.date(1987, 7, 7), 45678, '+492345678901')\n",
            "(5, 'Isobel', 'Ivanova', 'RUS', 'ENG', datetime.date(1963, 5, 30), 56789, '+491772635467')\n",
            "(6, 'Niamh', 'Murphy', 'ENG', 'IRI', datetime.date(1995, 9, 8), 67890, '+491231231232')\n"
          ]
        }
      ]
    },
    {
      "cell_type": "code",
      "metadata": {
        "id": "VgC8Z_-pKxZR",
        "outputId": "74a177a3-e33e-4adc-f95d-3b826d84835a"
      },
      "source": [
        "q2=\"select * from client;\"\n",
        "\n",
        "connection = create_db_connection(\"localhost\", \"root\", pw, db)\n",
        "client_details = read_query(connection, q2)"
      ],
      "execution_count": null,
      "outputs": [
        {
          "name": "stdout",
          "output_type": "stream",
          "text": [
            "MySQL Database connection successful\n"
          ]
        }
      ]
    },
    {
      "cell_type": "code",
      "metadata": {
        "id": "nKlWj1GkKxZR",
        "outputId": "36e2e0c5-fa76-4f37-b752-cf7e22cf4f0c"
      },
      "source": [
        "for client_db in client_details:\n",
        "    print(client_db)"
      ],
      "execution_count": null,
      "outputs": [
        {
          "name": "stdout",
          "output_type": "stream",
          "text": [
            "(101, 'Big Business Federation', '123 Falschungstraße, 10999 Berlin', 'NGO')\n",
            "(102, 'eCommerce GmbH', '27 Ersatz Allee, 10317 Berlin', 'Retail')\n",
            "(103, 'AutoMaker AG', '20 Künstlichstraße, 10023 Berlin', 'Auto')\n",
            "(104, 'Banko Bank', '12 Betrugstraße, 12345 Berlin', 'Banking')\n",
            "(105, 'WeMoveIt GmbH', '138 Arglistweg, 10065 Berlin', 'Logistics')\n"
          ]
        }
      ]
    },
    {
      "cell_type": "code",
      "metadata": {
        "id": "Ta0GGmaKKxZR",
        "outputId": "7ebf4265-6180-48cc-e5bf-3c3db0d51aac"
      },
      "source": [
        "q2 = \"\"\"\n",
        "SELECT last_name, dob\n",
        "FROM teacher;\n",
        "\"\"\"\n",
        "\n",
        "q3 = \"\"\"\n",
        "SELECT *\n",
        "FROM course\n",
        "WHERE language = 'ENG'\n",
        "ORDER BY start_date DESC;\n",
        "\"\"\"\n",
        "\n",
        "q4 = \"\"\"\n",
        "SELECT first_name, last_name, phone_no\n",
        "FROM teacher\n",
        "WHERE dob < '1990-01-01';\n",
        "\"\"\"\n",
        "\n",
        "q5 = \"\"\"\n",
        "SELECT course.course_id, course.course_name, course.language, client.client_name, client.address\n",
        "FROM course\n",
        "JOIN client\n",
        "ON course.client = client.client_id\n",
        "WHERE course.in_school = FALSE;\n",
        "\"\"\"\n",
        "\n",
        "connection = create_db_connection(\"localhost\", \"root\", pw, db)\n",
        "results = read_query(connection, q5)\n",
        "\n",
        "for result in results:\n",
        "  print(result)"
      ],
      "execution_count": null,
      "outputs": [
        {
          "name": "stdout",
          "output_type": "stream",
          "text": [
            "MySQL Database connection successful\n",
            "(13, 'Beginner English', 'ENG', 'Big Business Federation', '123 Falschungstraße, 10999 Berlin')\n",
            "(14, 'Intermediate English', 'ENG', 'Big Business Federation', '123 Falschungstraße, 10999 Berlin')\n",
            "(15, 'Advanced English', 'ENG', 'Big Business Federation', '123 Falschungstraße, 10999 Berlin')\n",
            "(17, 'Français intermédiaire', 'FRA', 'Big Business Federation', '123 Falschungstraße, 10999 Berlin')\n",
            "(19, 'Intermediate English', 'ENG', 'Banko Bank', '12 Betrugstraße, 12345 Berlin')\n",
            "(20, 'Fortgeschrittenes Russisch', 'RUS', 'AutoMaker AG', '20 Künstlichstraße, 10023 Berlin')\n"
          ]
        }
      ]
    },
    {
      "cell_type": "code",
      "metadata": {
        "id": "76pgRJ_UKxZS",
        "outputId": "82410ac5-2be4-468f-82ed-5ca7560885d3"
      },
      "source": [
        "#5.3 - Formatting Output into a List¶\n",
        "#Now we can assign the results to a list, to use further in our python applications or scripts.\n",
        "\n",
        "#The following code returns the results of our query as a list of tuples.\n",
        "\n",
        "#Initialise empty list\n",
        "from_db = []\n",
        "\n",
        "# Loop over the results and append them into our list, different styles\n",
        "\n",
        "# Returns a list of tuples\n",
        "for result in results:\n",
        "  result = result\n",
        "  from_db.append(result)\n",
        "    \n",
        "print(from_db)"
      ],
      "execution_count": null,
      "outputs": [
        {
          "name": "stdout",
          "output_type": "stream",
          "text": [
            "[(13, 'Beginner English', 'ENG', 'Big Business Federation', '123 Falschungstraße, 10999 Berlin'), (14, 'Intermediate English', 'ENG', 'Big Business Federation', '123 Falschungstraße, 10999 Berlin'), (15, 'Advanced English', 'ENG', 'Big Business Federation', '123 Falschungstraße, 10999 Berlin'), (17, 'Français intermédiaire', 'FRA', 'Big Business Federation', '123 Falschungstraße, 10999 Berlin'), (19, 'Intermediate English', 'ENG', 'Banko Bank', '12 Betrugstraße, 12345 Berlin'), (20, 'Fortgeschrittenes Russisch', 'RUS', 'AutoMaker AG', '20 Künstlichstraße, 10023 Berlin')]\n"
          ]
        }
      ]
    },
    {
      "cell_type": "code",
      "metadata": {
        "id": "lTh6RV5xKxZS"
      },
      "source": [
        "\n",
        "#5.4 - Formatting Output into a List of Lists If we want to, we can make this return a list of lists instead, like so:"
      ],
      "execution_count": null,
      "outputs": []
    },
    {
      "cell_type": "code",
      "metadata": {
        "id": "UEIYjrNGKxZS",
        "outputId": "0aff9791-5211-4bd8-99e7-a8fd72feec8e"
      },
      "source": [
        "# Returns a list of lists\n",
        "from_db = []\n",
        "\n",
        "for result in results:\n",
        "  result = list(result)\n",
        "  from_db.append(result)\n",
        "    \n",
        "print(from_db)"
      ],
      "execution_count": null,
      "outputs": [
        {
          "name": "stdout",
          "output_type": "stream",
          "text": [
            "[[13, 'Beginner English', 'ENG', 'Big Business Federation', '123 Falschungstraße, 10999 Berlin'], [14, 'Intermediate English', 'ENG', 'Big Business Federation', '123 Falschungstraße, 10999 Berlin'], [15, 'Advanced English', 'ENG', 'Big Business Federation', '123 Falschungstraße, 10999 Berlin'], [17, 'Français intermédiaire', 'FRA', 'Big Business Federation', '123 Falschungstraße, 10999 Berlin'], [19, 'Intermediate English', 'ENG', 'Banko Bank', '12 Betrugstraße, 12345 Berlin'], [20, 'Fortgeschrittenes Russisch', 'RUS', 'AutoMaker AG', '20 Künstlichstraße, 10023 Berlin']]\n"
          ]
        }
      ]
    },
    {
      "cell_type": "code",
      "metadata": {
        "id": "K-nFRs1xKxZT",
        "outputId": "761f55ba-30fe-47f3-b09f-3a18b50f936b"
      },
      "source": [
        "\n",
        "#5.5 - Formatting Output into a pandas DataFrame With a little more work (creating a list with our column names),\n",
        "#we can create a pandas DataFrame like so:\n",
        "\n",
        "# Returns a list of lists and then creates a pandas DataFrame\n",
        "from_db = []\n",
        "\n",
        "for result in results:\n",
        "  result = list(result)\n",
        "  from_db.append(result)\n",
        "\n",
        "\n",
        "columns = [\"course_id\", \"course_name\", \"language\", \"client_name\", \"address\"]\n",
        "df = pd.DataFrame(from_db, columns=columns)\n",
        "\n",
        "display(df)"
      ],
      "execution_count": null,
      "outputs": [
        {
          "data": {
            "text/html": [
              "<div>\n",
              "<style scoped>\n",
              "    .dataframe tbody tr th:only-of-type {\n",
              "        vertical-align: middle;\n",
              "    }\n",
              "\n",
              "    .dataframe tbody tr th {\n",
              "        vertical-align: top;\n",
              "    }\n",
              "\n",
              "    .dataframe thead th {\n",
              "        text-align: right;\n",
              "    }\n",
              "</style>\n",
              "<table border=\"1\" class=\"dataframe\">\n",
              "  <thead>\n",
              "    <tr style=\"text-align: right;\">\n",
              "      <th></th>\n",
              "      <th>course_id</th>\n",
              "      <th>course_name</th>\n",
              "      <th>language</th>\n",
              "      <th>client_name</th>\n",
              "      <th>address</th>\n",
              "    </tr>\n",
              "  </thead>\n",
              "  <tbody>\n",
              "    <tr>\n",
              "      <th>0</th>\n",
              "      <td>13</td>\n",
              "      <td>Beginner English</td>\n",
              "      <td>ENG</td>\n",
              "      <td>Big Business Federation</td>\n",
              "      <td>123 Falschungstraße, 10999 Berlin</td>\n",
              "    </tr>\n",
              "    <tr>\n",
              "      <th>1</th>\n",
              "      <td>14</td>\n",
              "      <td>Intermediate English</td>\n",
              "      <td>ENG</td>\n",
              "      <td>Big Business Federation</td>\n",
              "      <td>123 Falschungstraße, 10999 Berlin</td>\n",
              "    </tr>\n",
              "    <tr>\n",
              "      <th>2</th>\n",
              "      <td>15</td>\n",
              "      <td>Advanced English</td>\n",
              "      <td>ENG</td>\n",
              "      <td>Big Business Federation</td>\n",
              "      <td>123 Falschungstraße, 10999 Berlin</td>\n",
              "    </tr>\n",
              "    <tr>\n",
              "      <th>3</th>\n",
              "      <td>17</td>\n",
              "      <td>Français intermédiaire</td>\n",
              "      <td>FRA</td>\n",
              "      <td>Big Business Federation</td>\n",
              "      <td>123 Falschungstraße, 10999 Berlin</td>\n",
              "    </tr>\n",
              "    <tr>\n",
              "      <th>4</th>\n",
              "      <td>19</td>\n",
              "      <td>Intermediate English</td>\n",
              "      <td>ENG</td>\n",
              "      <td>Banko Bank</td>\n",
              "      <td>12 Betrugstraße, 12345 Berlin</td>\n",
              "    </tr>\n",
              "    <tr>\n",
              "      <th>5</th>\n",
              "      <td>20</td>\n",
              "      <td>Fortgeschrittenes Russisch</td>\n",
              "      <td>RUS</td>\n",
              "      <td>AutoMaker AG</td>\n",
              "      <td>20 Künstlichstraße, 10023 Berlin</td>\n",
              "    </tr>\n",
              "  </tbody>\n",
              "</table>\n",
              "</div>"
            ],
            "text/plain": [
              "   course_id                 course_name language              client_name  \\\n",
              "0         13            Beginner English      ENG  Big Business Federation   \n",
              "1         14        Intermediate English      ENG  Big Business Federation   \n",
              "2         15            Advanced English      ENG  Big Business Federation   \n",
              "3         17      Français intermédiaire      FRA  Big Business Federation   \n",
              "4         19        Intermediate English      ENG               Banko Bank   \n",
              "5         20  Fortgeschrittenes Russisch      RUS             AutoMaker AG   \n",
              "\n",
              "                             address  \n",
              "0  123 Falschungstraße, 10999 Berlin  \n",
              "1  123 Falschungstraße, 10999 Berlin  \n",
              "2  123 Falschungstraße, 10999 Berlin  \n",
              "3  123 Falschungstraße, 10999 Berlin  \n",
              "4      12 Betrugstraße, 12345 Berlin  \n",
              "5   20 Künstlichstraße, 10023 Berlin  "
            ]
          },
          "metadata": {},
          "output_type": "display_data"
        }
      ]
    },
    {
      "cell_type": "code",
      "metadata": {
        "id": "USF9qR9_KxZT",
        "outputId": "8493df49-0b27-41c5-b9a4-3c7222b3311e"
      },
      "source": [
        "df.info()"
      ],
      "execution_count": null,
      "outputs": [
        {
          "name": "stdout",
          "output_type": "stream",
          "text": [
            "<class 'pandas.core.frame.DataFrame'>\n",
            "RangeIndex: 6 entries, 0 to 5\n",
            "Data columns (total 5 columns):\n",
            " #   Column       Non-Null Count  Dtype \n",
            "---  ------       --------------  ----- \n",
            " 0   course_id    6 non-null      int64 \n",
            " 1   course_name  6 non-null      object\n",
            " 2   language     6 non-null      object\n",
            " 3   client_name  6 non-null      object\n",
            " 4   address      6 non-null      object\n",
            "dtypes: int64(1), object(4)\n",
            "memory usage: 368.0+ bytes\n"
          ]
        }
      ]
    },
    {
      "cell_type": "code",
      "metadata": {
        "id": "NP-T_VpNKxZT",
        "outputId": "6c1b92a1-5290-4007-f4ca-2ae59ac4fcf7"
      },
      "source": [
        "\n",
        "update = \"\"\"\n",
        "UPDATE client \n",
        "SET address = '23 Fingiertweg, 14534 Berlin' \n",
        "WHERE client_id = 101;\n",
        "\"\"\"\n",
        "\n",
        "connection = create_db_connection(\"localhost\", \"root\", pw, db)\n",
        "execute_query(connection, update)"
      ],
      "execution_count": null,
      "outputs": [
        {
          "name": "stdout",
          "output_type": "stream",
          "text": [
            "MySQL Database connection successful\n",
            "Query successful\n"
          ]
        }
      ]
    },
    {
      "cell_type": "code",
      "metadata": {
        "id": "1q5tyNCjKxZU",
        "outputId": "90da4b26-4516-4e8d-9393-052b4f3a5ef4"
      },
      "source": [
        "\n",
        "q1 = \"\"\"\n",
        "SELECT *\n",
        "FROM client\n",
        "WHERE client_id = 101;\n",
        "\"\"\"\n",
        "\n",
        "connection = create_db_connection(\"localhost\", \"root\", pw, db)\n",
        "results = read_query(connection, q1)\n",
        "\n",
        "for result in results:\n",
        "  print(result)"
      ],
      "execution_count": null,
      "outputs": [
        {
          "name": "stdout",
          "output_type": "stream",
          "text": [
            "MySQL Database connection successful\n",
            "(101, 'Big Business Federation', '23 Fingiertweg, 14534 Berlin', 'NGO')\n"
          ]
        }
      ]
    },
    {
      "cell_type": "code",
      "metadata": {
        "id": "kX9h3kkYKxZU",
        "outputId": "1a6090c0-fc31-4a1c-c8ff-d9dc3cd276fa"
      },
      "source": [
        "\n",
        "q1 = \"\"\"\n",
        "SELECT *\n",
        "FROM course;\n",
        "\"\"\"\n",
        "\n",
        "connection = create_db_connection(\"localhost\", \"root\", pw, db)\n",
        "results = read_query(connection, q1)\n",
        "\n",
        "from_db = []\n",
        "\n",
        "for result in results:\n",
        "  print(result)"
      ],
      "execution_count": null,
      "outputs": [
        {
          "name": "stdout",
          "output_type": "stream",
          "text": [
            "MySQL Database connection successful\n",
            "(12, 'English for Logistics', 'ENG', 'A1', 10, datetime.date(2020, 2, 1), 1, 1, 105)\n",
            "(13, 'Beginner English', 'ENG', 'A2', 40, datetime.date(2019, 11, 12), 0, 6, 101)\n",
            "(14, 'Intermediate English', 'ENG', 'B2', 40, datetime.date(2019, 11, 12), 0, 6, 101)\n",
            "(15, 'Advanced English', 'ENG', 'C1', 40, datetime.date(2019, 11, 12), 0, 6, 101)\n",
            "(16, 'Mandarin für Autoindustrie', 'MAN', 'B1', 15, datetime.date(2020, 1, 15), 1, 3, 103)\n",
            "(17, 'Français intermédiaire', 'FRA', 'B1', 18, datetime.date(2020, 4, 3), 0, 2, 101)\n",
            "(18, 'Deutsch für Anfänger', 'DEU', 'A2', 8, datetime.date(2020, 2, 14), 1, 4, 102)\n",
            "(19, 'Intermediate English', 'ENG', 'B2', 10, datetime.date(2020, 3, 29), 0, 1, 104)\n",
            "(20, 'Fortgeschrittenes Russisch', 'RUS', 'C1', 4, datetime.date(2020, 4, 8), 0, 5, 103)\n"
          ]
        }
      ]
    },
    {
      "cell_type": "code",
      "metadata": {
        "id": "zrd65sUDKxZU",
        "outputId": "dda78cfc-a50d-4892-c7b9-b7e2072dbf3e"
      },
      "source": [
        "\n",
        "delete_course = \"\"\"\n",
        "DELETE FROM course WHERE course_id = 20;\n",
        "\"\"\"\n",
        "\n",
        "connection = create_db_connection(\"localhost\", \"root\", pw, db)\n",
        "execute_query(connection, delete_course)"
      ],
      "execution_count": null,
      "outputs": [
        {
          "name": "stdout",
          "output_type": "stream",
          "text": [
            "MySQL Database connection successful\n",
            "Query successful\n"
          ]
        }
      ]
    },
    {
      "cell_type": "code",
      "metadata": {
        "id": "0vUpxdoMKxZV",
        "outputId": "c12193d4-a32c-427a-b4fb-c5b124a526a0"
      },
      "source": [
        "q1 = \"\"\"\n",
        "SELECT *\n",
        "FROM course;\n",
        "\"\"\"\n",
        "\n",
        "connection = create_db_connection(\"localhost\", \"root\", pw, db)\n",
        "results = read_query(connection, q1)\n",
        "\n",
        "from_db = []\n",
        "\n",
        "for result in results:\n",
        "  print(result)"
      ],
      "execution_count": null,
      "outputs": [
        {
          "name": "stdout",
          "output_type": "stream",
          "text": [
            "MySQL Database connection successful\n",
            "(12, 'English for Logistics', 'ENG', 'A1', 10, datetime.date(2020, 2, 1), 1, 1, 105)\n",
            "(13, 'Beginner English', 'ENG', 'A2', 40, datetime.date(2019, 11, 12), 0, 6, 101)\n",
            "(14, 'Intermediate English', 'ENG', 'B2', 40, datetime.date(2019, 11, 12), 0, 6, 101)\n",
            "(15, 'Advanced English', 'ENG', 'C1', 40, datetime.date(2019, 11, 12), 0, 6, 101)\n",
            "(16, 'Mandarin für Autoindustrie', 'MAN', 'B1', 15, datetime.date(2020, 1, 15), 1, 3, 103)\n",
            "(17, 'Français intermédiaire', 'FRA', 'B1', 18, datetime.date(2020, 4, 3), 0, 2, 101)\n",
            "(18, 'Deutsch für Anfänger', 'DEU', 'A2', 8, datetime.date(2020, 2, 14), 1, 4, 102)\n",
            "(19, 'Intermediate English', 'ENG', 'B2', 10, datetime.date(2020, 3, 29), 0, 1, 104)\n"
          ]
        }
      ]
    },
    {
      "cell_type": "code",
      "metadata": {
        "id": "a19v2AA4KxZV",
        "outputId": "30e2b3b3-b966-4c88-f900-f06c82450dc9"
      },
      "source": [
        "restore_russian = \"\"\"\n",
        "INSERT INTO course VALUES\n",
        "(20, 'Fortgeschrittenes Russisch', 'RUS', 'C1',  4, '2020-04-08',  FALSE, 5, 103);\n",
        "\"\"\"\n",
        "\n",
        "connection = create_db_connection(\"localhost\", \"root\", pw, db)\n",
        "execute_query(connection, restore_russian)\n",
        "\n",
        "\n",
        "q1 = \"\"\"\n",
        "SELECT *\n",
        "FROM course;\n",
        "\"\"\"\n",
        "\n",
        "connection = create_db_connection(\"localhost\", \"root\", pw, db)\n",
        "results = read_query(connection, q1)\n",
        "\n",
        "from_db = []\n",
        "\n",
        "for result in results:\n",
        "  print(result)"
      ],
      "execution_count": null,
      "outputs": [
        {
          "name": "stdout",
          "output_type": "stream",
          "text": [
            "MySQL Database connection successful\n",
            "Query successful\n",
            "MySQL Database connection successful\n",
            "(12, 'English for Logistics', 'ENG', 'A1', 10, datetime.date(2020, 2, 1), 1, 1, 105)\n",
            "(13, 'Beginner English', 'ENG', 'A2', 40, datetime.date(2019, 11, 12), 0, 6, 101)\n",
            "(14, 'Intermediate English', 'ENG', 'B2', 40, datetime.date(2019, 11, 12), 0, 6, 101)\n",
            "(15, 'Advanced English', 'ENG', 'C1', 40, datetime.date(2019, 11, 12), 0, 6, 101)\n",
            "(16, 'Mandarin für Autoindustrie', 'MAN', 'B1', 15, datetime.date(2020, 1, 15), 1, 3, 103)\n",
            "(17, 'Français intermédiaire', 'FRA', 'B1', 18, datetime.date(2020, 4, 3), 0, 2, 101)\n",
            "(18, 'Deutsch für Anfänger', 'DEU', 'A2', 8, datetime.date(2020, 2, 14), 1, 4, 102)\n",
            "(19, 'Intermediate English', 'ENG', 'B2', 10, datetime.date(2020, 3, 29), 0, 1, 104)\n",
            "(20, 'Fortgeschrittenes Russisch', 'RUS', 'C1', 4, datetime.date(2020, 4, 8), 0, 5, 103)\n"
          ]
        }
      ]
    },
    {
      "cell_type": "code",
      "metadata": {
        "id": "ezTok23zKxZV"
      },
      "source": [
        "def execute_list_query(connection, sql, val):\n",
        "    cursor = connection.cursor()\n",
        "    try:\n",
        "        cursor.executemany(sql, val)\n",
        "        connection.commit()\n",
        "        print(\"Query successful\")\n",
        "    except Error as err:\n",
        "        print(f\"Error: '{err}'\")"
      ],
      "execution_count": null,
      "outputs": []
    },
    {
      "cell_type": "code",
      "metadata": {
        "id": "jFBsX-FIKxZV",
        "outputId": "a538bd1c-1dc6-4d4b-ee9f-b98cc41e6093"
      },
      "source": [
        "sql = '''\n",
        "    INSERT INTO teacher (teacher_id, first_name, last_name, language_1, language_2, dob, tax_id, phone_no) \n",
        "    VALUES (%s, %s, %s, %s, %s, %s, %s, %s)\n",
        "    '''\n",
        "val = [\n",
        "    (7, 'Hank', 'Dodson', 'ENG', None, '1991-12-23', 11111, '+491772345678'), \n",
        "    (8, 'Sue', 'Perkins', 'MAN', 'ENG', '1976-02-02', 22222, '+491443456432')\n",
        "]\n",
        "\n",
        "\n",
        "connection = create_db_connection(\"localhost\", \"root\", pw, db)\n",
        "execute_list_query(connection, sql, val)"
      ],
      "execution_count": null,
      "outputs": [
        {
          "name": "stdout",
          "output_type": "stream",
          "text": [
            "MySQL Database connection successful\n",
            "Query successful\n"
          ]
        }
      ]
    },
    {
      "cell_type": "code",
      "metadata": {
        "id": "CDCChTvLKxZW",
        "outputId": "22a68609-e78f-4bc2-94a9-a5b2ff3a6c1b"
      },
      "source": [
        "q1 = \"\"\"\n",
        "SELECT *\n",
        "FROM teacher;\n",
        "\"\"\"\n",
        "\n",
        "connection = create_db_connection(\"localhost\", \"root\", pw, db)\n",
        "results = read_query(connection, q1)\n",
        "\n",
        "from_db = []\n",
        "\n",
        "for result in results:\n",
        "  print(result)"
      ],
      "execution_count": null,
      "outputs": [
        {
          "name": "stdout",
          "output_type": "stream",
          "text": [
            "MySQL Database connection successful\n",
            "(1, 'James', 'Smith', 'ENG', None, datetime.date(1985, 4, 20), 12345, '+491774553676')\n",
            "(2, 'Stefanie', 'Martin', 'FRA', None, datetime.date(1970, 2, 17), 23456, '+491234567890')\n",
            "(3, 'Steve', 'Wang', 'MAN', 'ENG', datetime.date(1990, 11, 12), 34567, '+447840921333')\n",
            "(4, 'Friederike', 'Müller-Rossi', 'DEU', 'ITA', datetime.date(1987, 7, 7), 45678, '+492345678901')\n",
            "(5, 'Isobel', 'Ivanova', 'RUS', 'ENG', datetime.date(1963, 5, 30), 56789, '+491772635467')\n",
            "(6, 'Niamh', 'Murphy', 'ENG', 'IRI', datetime.date(1995, 9, 8), 67890, '+491231231232')\n",
            "(7, 'Hank', 'Dodson', 'ENG', None, datetime.date(1991, 12, 23), 11111, '+491772345678')\n",
            "(8, 'Sue', 'Perkins', 'MAN', 'ENG', datetime.date(1976, 2, 2), 22222, '+491443456432')\n"
          ]
        }
      ]
    },
    {
      "cell_type": "code",
      "metadata": {
        "id": "rxanFuJxKxZW"
      },
      "source": [
        ""
      ],
      "execution_count": null,
      "outputs": []
    }
  ]
}