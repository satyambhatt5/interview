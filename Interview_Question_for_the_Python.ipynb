{
  "nbformat": 4,
  "nbformat_minor": 0,
  "metadata": {
    "colab": {
      "name": "Interview Question for the Python.ipynb",
      "private_outputs": true,
      "provenance": [],
      "collapsed_sections": [],
      "authorship_tag": "ABX9TyPKYZ31mFwPFkP4dYZV5ack",
      "include_colab_link": true
    },
    "kernelspec": {
      "name": "python3",
      "display_name": "Python 3"
    },
    "language_info": {
      "name": "python"
    }
  },
  "cells": [
    {
      "cell_type": "markdown",
      "metadata": {
        "id": "view-in-github",
        "colab_type": "text"
      },
      "source": [
        "<a href=\"https://colab.research.google.com/github/satyambhatt5/interview/blob/master/Interview_Question_for_the_Python.ipynb\" target=\"_parent\"><img src=\"https://colab.research.google.com/assets/colab-badge.svg\" alt=\"Open In Colab\"/></a>"
      ]
    },
    {
      "cell_type": "markdown",
      "metadata": {
        "id": "jrEN8gUbU_3D"
      },
      "source": [
        "*Operator\tName\tExample\tTry it\n",
        "+\tAddition\t= x + y\t\n",
        "-\tSubtraction =x - y\t\n",
        "*\tMultiplication\t= x * y\t\n",
        "/\tDivision =\tx / y\t\n",
        "%\tModulus\t=x % y\treminder  will get \n",
        "**\tExponentiation =\tx ** y\t\n",
        "//\tFloor division =\tx // y #example 15\\2 = 7 \n"
      ]
    },
    {
      "cell_type": "markdown",
      "metadata": {
        "id": "kiOtYrzQVumK"
      },
      "source": [
        "#Python Operators\n",
        "\n",
        "https://www.w3schools.com/python/python_operators.asp"
      ]
    },
    {
      "cell_type": "code",
      "metadata": {
        "id": "lyJPTMizouQi"
      },
      "source": [
        ""
      ],
      "execution_count": null,
      "outputs": []
    },
    {
      "cell_type": "markdown",
      "metadata": {
        "id": "ISTAUIxUwPr0"
      },
      "source": [
        "#PYTHON interview question:\n",
        " https://intellipaat.com/blog/interview-question/python-interview-questions/\n",
        "\n",
        "https://www.edureka.co/blog/interview-questions/python-interview-questions/\n",
        "\n",
        "Python cheat sheet:https://gto76.github.io/python-cheatsheet/\n",
        "\n",
        "\n",
        "https://www.python.org/\n",
        "\n",
        "#MLOP Resource\n",
        "Document : https://c17hawke.github.io/wafer_mlops_docs/\n",
        "\n",
        "Cookicutter sturture of the mlop process in machine learning pipeline \n",
        "\n",
        "\n",
        "https://drivendata.github.io/cookiecutter-data-science/\n",
        "\n",
        "github profile for end to end project in mlop system\n",
        "\n",
        "https://github.com/c17hawke/mlops_main\n",
        "\n",
        "https://github.com/c17hawke/wafer_mlops_docs\n",
        "\n",
        "simple dvc model\n",
        "\n",
        "https://github.com/c17hawke/simple-dvc-demo\n",
        "\n",
        "#Data missing  value fill \n",
        "\n",
        "https://colab.research.google.com/drive/19gFzEun-VCp6bdTvuZKwAr8YlzqJgLPu\n",
        "\n",
        "#INTERVIEW QUESTION :\n",
        "\n",
        "https://mail.google.com/mail/u/0/#inbox/KtbxLthZjJPcCGrllBMkmbcJvSTmCVvWKg\n",
        "\n",
        "#GITHUB \n",
        "\n",
        "https://github.com/learning-zone/python-interview-questions\n",
        "\n",
        "https://towardsdatascience.com/53-python-interview-questions-and-answers-91fa311eec3f\n",
        "\n",
        "https://www.interviewbit.com/python-interview-questions/\n",
        "\n",
        "#All python question \n",
        "https://www.includehelp.com/python/\n",
        "\n",
        "#Cheat Sheet Python \n",
        "https://gto76.github.io/python-cheatsheet/\n",
        "\n",
        "\n",
        "https://github.com/wilfredinni/python-cheatsheet\n",
        "\n",
        "https://ehmatthes.github.io/pcc/cheatsheets/README.html\n",
        "\n",
        "\n",
        "#open cv\n",
        "\n",
        "https://www.geeksforgeeks.org/opencv-python-tutorial/#processing\n",
        "\n",
        "\n",
        "\n",
        "https://docs.opencv.org/master/db/deb/tutorial_display_image.html\n",
        "\n",
        "#how-do-i-use-kwargs-in-python-3-class-init-function\n",
        "https://stackoverflow.com/questions/60418497/how-do-i-use-kwargs-in-python-3-class-init-function\n",
        "\n",
        "#Why can't pass *args and **kwargs in __init__ of a child class\n",
        "\n",
        "https://stackoverflow.com/questions/21660834/why-cant-pass-args-and-kwargs-in-init-of-a-child-class\n",
        "\n",
        "#os file reading \n",
        "https://docs.google.com/document/d/1PFIzW_BI9NDJX3BsAdlacudsiKZP_C1tZmCd51dor5k/edit#\n",
        "\n",
        "#Over all python code in training \n",
        "https://colab.research.google.com/drive/13_iwYbjCuiVUXESMjRwnp7KT09cDHXXO?usp=sharing"
      ]
    },
    {
      "cell_type": "code",
      "metadata": {
        "id": "kRpFr-EaVp4H"
      },
      "source": [
        "\t\n",
        "# ordinal encode the breast cancer dataset\n",
        "from pandas import read_csv\n",
        "from sklearn.preprocessing import LabelEncoder\n",
        "from sklearn.preprocessing import OrdinalEncoder\n",
        "# define the location of the dataset\n",
        "url = \"https://raw.githubusercontent.com/jbrownlee/Datasets/master/breast-cancer.csv\"\n",
        "# load the dataset\n",
        "dataset = read_csv(url, header=None)\n",
        "# retrieve the array of data\n",
        "data = dataset.values\n",
        "# separate into input and output columns\n",
        "X = data[:, :-1].astype(str)\n",
        "y = data[:, -1].astype(str)\n",
        "# ordinal encode input variables\n",
        "ordinal_encoder = OrdinalEncoder()\n",
        "X = ordinal_encoder.fit_transform(X)\n",
        "# ordinal encode target variable\n",
        "label_encoder = LabelEncoder()\n",
        "y = label_encoder.fit_transform(y)\n",
        "# summarize the transformed data\n",
        "print('Input', X.shape)\n",
        "print(X[:5, :])\n",
        "print('Output', y.shape)\n",
        "print(y[:5])\n"
      ],
      "execution_count": null,
      "outputs": []
    },
    {
      "cell_type": "markdown",
      "metadata": {
        "id": "URBrGCDWG9dZ"
      },
      "source": [
        "The Docker Handbook – 2021 Edition\n",
        "\n",
        "https://www.freecodecamp.org/news/the-docker-handbook/\n",
        "\n",
        "Sql Programming:\n",
        "\n",
        "SQL Interview Questions.pdf - Google Drive\n",
        "https://drive.google.com/file/d/1CAM6HQVqU3qSIhSmp6U8nd1JimeEiuUW/view\n",
        "\n",
        "completesql/sql_notes.md at main · vasudeveloper001/completesql\n",
        "\n",
        "https://github.com/vasudeveloper001/completesql/blob/main/sql_notes.md\n",
        "\n",
        "Transformer models - Hugging Face Course\n",
        "\n",
        "https://huggingface.co/course/chapter1?fw=tf\n",
        "\n",
        "chiphuyen/ml-interviews-book:\n",
        "\n",
        "https://huyenchip.com/ml-interviews-book/\n",
        "https://github.com/chiphuyen/ml-interviews-book\n",
        "\n",
        "\n"
      ]
    },
    {
      "cell_type": "code",
      "metadata": {
        "id": "B2nrnIDqV8jl"
      },
      "source": [
        ""
      ],
      "execution_count": null,
      "outputs": []
    },
    {
      "cell_type": "markdown",
      "metadata": {
        "id": "7SH5AsKnRGsL"
      },
      "source": [
        "\n",
        "Image-Segmentation-Using-Pixellib/app.py at main · krishnaik06/Image-Segmentation-Using-Pixellib\n",
        "\n",
        "https://github.com/krishnaik06/Image-Segmentation-Using-Pixellib/blob/main/Live%20Video/app.py\n",
        "\n",
        "\n",
        "ayoolaolafenwa/PixelLib: Visit PixelLib's official documentation \n",
        "\n",
        "https://pixellib.readthedocs.io/en/latest/\n",
        "\n",
        "https://github.com/ayoolaolafenwa/PixelLib"
      ]
    },
    {
      "cell_type": "markdown",
      "metadata": {
        "id": "JaY8n86XOpQL"
      },
      "source": [
        ""
      ]
    },
    {
      "cell_type": "code",
      "metadata": {
        "id": "kfp3QcpKWivb"
      },
      "source": [
        ""
      ],
      "execution_count": null,
      "outputs": []
    },
    {
      "cell_type": "markdown",
      "metadata": {
        "id": "1_3L19BvDkFs"
      },
      "source": [
        "python tutorial :https://www.w3schools.com/python/python_operators.asp"
      ]
    },
    {
      "cell_type": "code",
      "metadata": {
        "id": "tK6BHgyyXCDo"
      },
      "source": [
        "# Python program to execute\n",
        "# function directly\n",
        "def my_function():\n",
        "\tprint (\"I am inside function\")\n",
        "\n",
        "# We can test function by calling it.\n",
        "my_function()\n",
        "\n"
      ],
      "execution_count": null,
      "outputs": []
    },
    {
      "cell_type": "code",
      "metadata": {
        "id": "ZLse8hwSNVQx"
      },
      "source": [
        "n=int(input(\"Enter number:\"))\n",
        "count=0\n",
        "while(n>0):\n",
        "    count=count+1\n",
        "    n=n//10\n",
        "print(\"The number of digits in the number are:\",count)"
      ],
      "execution_count": null,
      "outputs": []
    },
    {
      "cell_type": "code",
      "metadata": {
        "id": "uXLmGpWwR2R2"
      },
      "source": [
        "n = int(input(\"Enter the number :\"))\n",
        "\n",
        "for i in range(0,n):\n",
        "  for j in range (0,n):\n",
        "    if (i==j):\n",
        "      print(\"1\",sep=\" \",end=\" \")\n",
        "    else:\n",
        "\n",
        "      print(\"0\",sep=' ',end=\" \")   \n",
        "  print() "
      ],
      "execution_count": null,
      "outputs": []
    },
    {
      "cell_type": "code",
      "metadata": {
        "id": "Ez0iNrj2XN2_"
      },
      "source": [
        "6# Suppose this is foo.py.\n",
        "\n",
        "print(\"before import\")\n",
        "import math\n",
        "\n",
        "print(\"before functionA\")\n",
        "def functionA():\n",
        "    print(\"Function A\")\n",
        "\n",
        "print(\"before functionB\")\n",
        "def functionB():\n",
        "    print(\"Function B {}\".format(math.sqrt(100)))\n",
        "\n",
        "print(\"before __name__ guard\")\n",
        "if __name__ == '__main__':\n",
        "    functionA()\n",
        "    functionB()\n",
        "print(\"after __name__ guard\")"
      ],
      "execution_count": null,
      "outputs": []
    },
    {
      "cell_type": "markdown",
      "metadata": {
        "id": "DBpO6XoMhwhk"
      },
      "source": [
        "\n",
        "\n",
        "```\n",
        "# This is formatted as code \n",
        "\n",
        "//\tInteger division\t22 // 8 = 2\n",
        "/\tDivision\t22 / 8 = 2.75\n",
        "*\tMultiplication\t3 * 3 = 9\n",
        "–\tSubtraction\t5 – 2 = 3\n",
        "```\n",
        "\n"
      ]
    },
    {
      "cell_type": "code",
      "metadata": {
        "id": "_Bmsq75UwEhZ"
      },
      "source": [
        "#Can you write an efficient code to count the number of capital letters in a file?\n",
        "\n",
        "with open(SOME_LARGE_FILE) as countletter:\n",
        "count = 0\n",
        "text = countletter.read()\n",
        "for character in text:\n",
        "if character.isupper():\n",
        "count += 1"
      ],
      "execution_count": null,
      "outputs": []
    },
    {
      "cell_type": "code",
      "metadata": {
        "id": "vOs3dAEKyO_n"
      },
      "source": [
        "l= ['1','2','3','4','5']\n",
        "\n",
        "for i in l:\n",
        "  print(i)\n",
        "\n",
        "[int(i) for i in l]\n"
      ],
      "execution_count": null,
      "outputs": []
    },
    {
      "cell_type": "code",
      "metadata": {
        "id": "BxxjJlG-yfd7"
      },
      "source": [
        "#how will reverse \n",
        "\n",
        "l_rev=l.reverse()\n",
        "l_rev\n"
      ],
      "execution_count": null,
      "outputs": []
    },
    {
      "cell_type": "code",
      "metadata": {
        "id": "vElcE27kzFGC"
      },
      "source": [
        "#how to remove the last obj \n",
        "\n",
        "lst =['40','60','70','80','90']\n",
        "lst"
      ],
      "execution_count": null,
      "outputs": []
    },
    {
      "cell_type": "markdown",
      "metadata": {
        "id": "IkMzMqBd0iyV"
      },
      "source": [
        "What are split(), sub(), and subn() methods in Python?\n",
        "These methods belong to Python RegEx ‘re’ module and are used to modify strings.\n",
        "\n",
        "**split()**: This method is used to split a given string into a list.\n",
        "\n",
        "**sub():** This method is used to find a substring where a regex pattern matches, and then it replaces the matched substring with a different string.\n",
        "\n",
        "**subn():** This method is similar to the sub() method, but it returns the new string, along with the number of replacements.\n",
        "\n"
      ]
    },
    {
      "cell_type": "code",
      "metadata": {
        "id": "CxAo4sxHzxMM"
      },
      "source": [
        "#how to map the function \n",
        "\n",
        "def calsq(n):\n",
        "\n",
        "  return n*n\n",
        "\n",
        "num =[10,20,30,40]\n",
        "map_fn=list(map(calsq, num))\n",
        "map_fn"
      ],
      "execution_count": null,
      "outputs": []
    },
    {
      "cell_type": "code",
      "metadata": {
        "id": "dYLMNqSkz05a"
      },
      "source": [
        "import numpy as np\n",
        "ar = np.array([1, 3, 2, 4, 5, 6])\n",
        "print(ar.argsort()[-3:][::-1])"
      ],
      "execution_count": null,
      "outputs": []
    },
    {
      "cell_type": "code",
      "metadata": {
        "id": "wSQfI-Sez7IZ"
      },
      "source": [
        "#Write a code to display the contents of a file in reverse.\n",
        "#To display the contents of a file in reverse, the following code can be used:\n",
        "\n",
        "#for line in reversed(list(open(filename.txt))):\n",
        " # print(line.rstrip())"
      ],
      "execution_count": null,
      "outputs": []
    },
    {
      "cell_type": "code",
      "metadata": {
        "id": "gD3x3mY04Q2r"
      },
      "source": [
        "\n",
        "#Which of the following is an invalid statement?\n",
        "xyz = 1,000,000\n",
        "#x y z = 1000 2000 3000\n",
        "x,y,z = 1000, 2000, 3000\n",
        "x_y_z = 1,000,000"
      ],
      "execution_count": null,
      "outputs": []
    },
    {
      "cell_type": "code",
      "metadata": {
        "id": "W1U24E-04XrM"
      },
      "source": [
        "print(xyz)\n",
        "print(x_y_z)\n",
        "print(x,y,z)\n"
      ],
      "execution_count": null,
      "outputs": []
    },
    {
      "cell_type": "code",
      "metadata": {
        "id": "lElCGzGq4e74"
      },
      "source": [
        "#What would be the output if I run the following code block\n",
        "list1 = [2, 33, 222, 14, 25]\n",
        "print(list1[-2])"
      ],
      "execution_count": null,
      "outputs": []
    },
    {
      "cell_type": "markdown",
      "metadata": {
        "id": "52DJnX-T5-tr"
      },
      "source": [
        "What is the difference between append() and extend() methods?\n",
        "\n",
        "Both append() and extend() methods are methods used to add elements at the end of a list.\n",
        "\n",
        "append(element): Adds the given element at the end of the list that called this append() method\n",
        "\n",
        "\n",
        "```\n",
        "# This is formatted as c\n",
        "\n",
        "```\n",
        "# This is formatted as code\n",
        "```\n",
        "\n",
        "ode\n",
        "```\n",
        "\n",
        "\n",
        "extend(another-list): Adds the elements of another list at the end of the list that called this extend() method"
      ]
    },
    {
      "cell_type": "code",
      "metadata": {
        "id": "1l0PJb9p5CyJ"
      },
      "source": [
        "x = ['ab', 'cd']\n",
        "print(list(map(list, x)))"
      ],
      "execution_count": null,
      "outputs": []
    },
    {
      "cell_type": "code",
      "metadata": {
        "id": "7sq5DfJ35H0K"
      },
      "source": [
        "print(list(filter(lambda x:x>6,range(9))))\n",
        "print(list(map(lambda x:  x**2,range(5))))"
      ],
      "execution_count": null,
      "outputs": []
    },
    {
      "cell_type": "code",
      "metadata": {
        "id": "FWoPXMd169NV"
      },
      "source": [
        "l1=[1,2,3,4,5]\n",
        "from functools import reduce\n",
        "\n",
        "reduce(lambda x,y:x-y,l1)\n",
        "\n",
        "\n"
      ],
      "execution_count": null,
      "outputs": []
    },
    {
      "cell_type": "code",
      "metadata": {
        "id": "wrcUbU6S7cdN"
      },
      "source": [
        "l2=[1,2,3,4,5,6,7]\n",
        "import numpy as np\n",
        "a = np.array(l2)\n",
        "p = np.percentile(a, 50)  #Returns the 50th percentile which is also the median\n",
        "print(p)"
      ],
      "execution_count": null,
      "outputs": []
    },
    {
      "cell_type": "code",
      "metadata": {
        "id": "zA_c_IuP7f8f"
      },
      "source": [
        "x = \"Intellipaat Python\"\n",
        "print(x.split())\n"
      ],
      "execution_count": null,
      "outputs": []
    },
    {
      "cell_type": "code",
      "metadata": {
        "id": "Ev9eBgIm81sF"
      },
      "source": [
        "#What is the difference between “is” and “==”?\n",
        "\n",
        "#is checks identity and == checks equality.\n",
        "\n",
        "a = [1,2,3]\n",
        "b = a\n",
        "c = [1,2,3]\n",
        "print(a == b)\n",
        "print(a == c)"
      ],
      "execution_count": null,
      "outputs": []
    },
    {
      "cell_type": "code",
      "metadata": {
        "id": "9KlqonDT9kvH"
      },
      "source": [
        "print(id(a))\n",
        "print(id(b))\n",
        "print(id(c))"
      ],
      "execution_count": null,
      "outputs": []
    },
    {
      "cell_type": "code",
      "metadata": {
        "id": "xFhLab6n93D3"
      },
      "source": [
        "\n",
        "#.What is a decorator?\n",
        "\n",
        "##A decorator allows adding functionality to an existing function by passing that existing \n",
        "#function to a decorator, which executes the existing function as well as additional code.\n",
        "\n",
        "def logging(func):\n",
        "  def log_function_called():\n",
        "    print(f'{func} called.')\n",
        "    func()\n",
        "  return log_function_called"
      ],
      "execution_count": null,
      "outputs": []
    },
    {
      "cell_type": "code",
      "metadata": {
        "id": "tPSgxeUz-nCh"
      },
      "source": [
        "def my_name():\n",
        "  print('chris')\n",
        "  \n",
        "def friends_name():\n",
        "  print('naruto')\n",
        "my_name()\n",
        "friends_name()"
      ],
      "execution_count": null,
      "outputs": []
    },
    {
      "cell_type": "markdown",
      "metadata": {
        "id": "8KL-iVdj-wf1"
      },
      "source": [
        "#Now add the decorator to both."
      ]
    },
    {
      "cell_type": "code",
      "metadata": {
        "id": "LJqE-Dfg-sz2"
      },
      "source": [
        "@logging\n",
        "def my_name():\n",
        " print('chris')\n",
        "@logging\n",
        "def friends_name():\n",
        " print('naruto')\n",
        "print(my_name())\n",
        "print(friends_name())"
      ],
      "execution_count": null,
      "outputs": []
    },
    {
      "cell_type": "code",
      "metadata": {
        "id": "5k9bzktw-2Fp"
      },
      "source": [
        "class Car:\n",
        "  def __init__(self ,color ,speed):\n",
        "    self.color=color\n",
        "    self.speed=speed\n",
        "\n",
        "#create instance \n",
        "\n",
        "car=Car(\"Red\",80)\n",
        "print(car.color)\n",
        "print(car.speed)\n",
        "\n",
        "\n",
        "\n"
      ],
      "execution_count": null,
      "outputs": []
    },
    {
      "cell_type": "markdown",
      "metadata": {
        "id": "IX4TzzyOAnA3"
      },
      "source": [
        " What is the difference between instance, static and class methods in python?\n",
        "\n",
        "Instance methods : accept self parameter and relate to a specific instance of the class.\n",
        "\n",
        "Static methods : use @staticmethod decorator, are not related to a specific instance, and are self-contained (don’t modify class or instance attributes)\n",
        "\n",
        "Class methods : accept cls parameter and can modify the class itself\n",
        "We’re going to illustrate the difference around a fictional CoffeeShop class."
      ]
    },
    {
      "cell_type": "code",
      "metadata": {
        "id": "ZE6j47xa_vrG"
      },
      "source": [
        "class CoffeeShop:\n",
        "    specialty = 'espresso'\n",
        "    \n",
        "    def __init__(self, coffee_price):\n",
        "        self.coffee_price = coffee_price\n",
        "    \n",
        "    # instance method\n",
        "    def make_coffee(self):\n",
        "        print(f'Making {self.specialty} for ${self.coffee_price}')\n",
        "    \n",
        "    # static method    \n",
        "    @staticmethod\n",
        "    def check_weather():\n",
        "        print('Its sunny')\n",
        "        ##Python Static Variable When we declare a variable inside a class, but outside the method, it is called a static or class variable.\n",
        "        # It can be called directly from a class but not through the instances of a class.\n",
        "\n",
        "    # class method \"\"\"A class method is a method that is bound to a class rather than its object. \n",
        "    #It doesn't require creation of a class instance, much like staticmethod. \n",
        "    #The difference between a static method and a class method is: Static method knows nothing about the class and just deals with the parameters.\"\"\"\n",
        "\n",
        "    @classmethod \n",
        "    def change_specialty(cls, specialty):\n",
        "        cls.specialty = specialty\n",
        "        print(f'Specialty changed to {specialty}')"
      ],
      "execution_count": null,
      "outputs": []
    },
    {
      "cell_type": "code",
      "metadata": {
        "id": "96KwmHyCAvRo"
      },
      "source": [
        "coffee_shop = CoffeeShop('5')\n",
        "print(coffee_shop.coffee_price)\n",
        "print(coffee_shop.check_weather())"
      ],
      "execution_count": null,
      "outputs": []
    },
    {
      "cell_type": "code",
      "metadata": {
        "id": "gOB-VhmqAz9U"
      },
      "source": [
        "coffee_shop.check_weather()"
      ],
      "execution_count": null,
      "outputs": []
    },
    {
      "cell_type": "code",
      "metadata": {
        "id": "AcMy0hd6A5aM"
      },
      "source": [
        "coffee_shop.change_specialty('drip coffee')"
      ],
      "execution_count": null,
      "outputs": []
    },
    {
      "cell_type": "code",
      "metadata": {
        "id": "DiXOkXppBAwA"
      },
      "source": [
        "coffee_shop.make_coffee()"
      ],
      "execution_count": null,
      "outputs": []
    },
    {
      "cell_type": "code",
      "metadata": {
        "id": "iyaiwx4nBHZQ"
      },
      "source": [
        "\n",
        "#map function works\n",
        "\n",
        "def add_three(x):\n",
        "  return x+3\n",
        "li = [1,2,3]\n",
        "[i for i in map(add_three, li)]"
      ],
      "execution_count": null,
      "outputs": []
    },
    {
      "cell_type": "code",
      "metadata": {
        "id": "etkWaSx2BngR"
      },
      "source": [
        "def add_three(x):\n",
        "    return x + 3\n",
        "li = [1,2,3]\n",
        "list(map(add_three, li))"
      ],
      "execution_count": null,
      "outputs": []
    },
    {
      "cell_type": "code",
      "metadata": {
        "id": "x2O6beOiCCI6"
      },
      "source": [
        "#Reduce Function \n",
        "\n",
        "from functools import reduce\n",
        "\n",
        "def add_three(x,y):\n",
        "  return x+y\n",
        "\n",
        "li=[1,2,3,4]\n",
        "\n",
        "reduce(add_three,li)"
      ],
      "execution_count": null,
      "outputs": []
    },
    {
      "cell_type": "code",
      "metadata": {
        "id": "j_JQL2rmCmzs"
      },
      "source": [
        "#filter how does it workm\n",
        "\n",
        "def add_three(x):\n",
        "  if x % 2==0:\n",
        "    return True\n",
        "  else :\n",
        "    return False\n",
        "li = [1,2,3,4,5,6,7,8]\n",
        "\n",
        "a=filter(add_three, li) \n",
        "\n",
        "list(a)\n"
      ],
      "execution_count": null,
      "outputs": []
    },
    {
      "cell_type": "code",
      "metadata": {
        "id": "qyukjM1TD411"
      },
      "source": [
        "[i for i in filter(add_three,li)]"
      ],
      "execution_count": null,
      "outputs": []
    },
    {
      "cell_type": "code",
      "metadata": {
        "id": "hA2lMK8fELyv"
      },
      "source": [
        "#how to reverse list \n",
        "\n",
        "\n",
        "li = ['a','b','c']\n",
        "print(li)\n",
        "\n",
        "li.reverse()\n",
        "print(li)"
      ],
      "execution_count": null,
      "outputs": []
    },
    {
      "cell_type": "code",
      "metadata": {
        "id": "ldLgocSjEnUU"
      },
      "source": [
        "#how the multiplication with string \n",
        "\n",
        "\"cat\"*3"
      ],
      "execution_count": null,
      "outputs": []
    },
    {
      "cell_type": "code",
      "metadata": {
        "id": "8uSZ8ZRvE2wr"
      },
      "source": [
        "#how to multiply the list \n",
        "\n",
        "[1,2,3] * 2"
      ],
      "execution_count": null,
      "outputs": []
    },
    {
      "cell_type": "code",
      "metadata": {
        "id": "8LKolR-WFFZb"
      },
      "source": [
        "a = [1,2]\n",
        "b = [3,4,5]\n",
        "\n",
        "#concate the list \n",
        "a+b"
      ],
      "execution_count": null,
      "outputs": []
    },
    {
      "cell_type": "code",
      "metadata": {
        "id": "8p9Z8XQnFQ9B"
      },
      "source": [
        "#append the list \n",
        "\n",
        "li1 = [['a'],['b'],['c']]\n",
        "li2 = li1\n",
        "\n",
        "li1.append(['d'])\n",
        "print(li2)\n"
      ],
      "execution_count": null,
      "outputs": []
    },
    {
      "cell_type": "markdown",
      "metadata": {
        "id": "gwlmIXADHQTK"
      },
      "source": [
        "\n",
        "What is the difference between lists and arrays?\n",
        "\n",
        "\n",
        "Note: Python’s standard library has an array object but here I’m specifically referring to the commonly used Numpy array.\n",
        "\n",
        "\n",
        "Lists exist in python’s standard library. Arrays are defined by Numpy.\n",
        "\n",
        "Lists can be populated with different types of data at each index. \n",
        "\n",
        "Arrays require homogeneous elements.\n",
        "\n",
        "Arithmetic on lists adds or removes elements from the list. Arithmetic on arrays functions per linear algebra.\n",
        "\n",
        "Arrays also use less memory and come with significantly more functionality."
      ]
    },
    {
      "cell_type": "code",
      "metadata": {
        "id": "4OnksjZmFV7Z"
      },
      "source": [
        "a = [1, 2, 3]\n",
        "b = [7, 8, 9]\n",
        "\n",
        "print([(x + y) for (x,y) in zip(a,b)]) # parallel iterators\n",
        "# output => [8, 10, 12]\n",
        "\n",
        "[(x,y) for x in a for y in b]    # nested iterators\n",
        "# output => [(1, 7), (1, 8), (1, 9), (2, 7), (2, 8), (2, 9), (3, 7), (3, 8), (3, 9)]"
      ],
      "execution_count": null,
      "outputs": []
    },
    {
      "cell_type": "markdown",
      "metadata": {
        "id": "9pS7PfoOsjdK"
      },
      "source": [
        ""
      ]
    },
    {
      "cell_type": "code",
      "metadata": {
        "id": "76YXxyO2szxR"
      },
      "source": [
        "#Iterate With enumerate() Instead of range()\n",
        "#This scenario might come up more than any other in coding interviews:\n",
        " #you have a list of elements, and you need to iterate over the list with access to both the indices and the values."
      ],
      "execution_count": null,
      "outputs": []
    },
    {
      "cell_type": "code",
      "metadata": {
        "id": "o1jsP_bx9peQ"
      },
      "source": [
        ""
      ],
      "execution_count": null,
      "outputs": []
    },
    {
      "cell_type": "markdown",
      "metadata": {
        "id": "7VdIh4vQtBEZ"
      },
      "source": [
        "\n",
        "There’s a classic coding interview question named FizzBuzz that can \n",
        " \n",
        "solved by iterating over both indices and values. In FizzBuzz, you are\n",
        "\n",
        "given a list of integers. Your task is to do the following:\n",
        "\n",
        "Replace all integers that are evenly divisible by 3 with \"fizz\"\n",
        "\n",
        "Replace all integers divisible by 5 with \"buzz\"\n",
        "\n",
        "Replace all integers divisible by both 3 and 5 with \"fizzbuzz\""
      ]
    },
    {
      "cell_type": "code",
      "metadata": {
        "id": "XQp21W18tB6u"
      },
      "source": [
        "list_value =[45, 22, 14, 65, 97, 72]\n",
        "\n",
        "for i in range(len(list_value)):\n",
        "  if list_value[i] % 3  == 0 and list_value[i] % 5 == 0:\n",
        "    list_value[i] = 'fizzbuzz'\n",
        "  \n",
        "  elif list_value[i] % 5 == 0:\n",
        "    list_value[i]='buzz'\n",
        "\n",
        "  elif list_value[i] % 3 == 0:\n",
        "    list_value[i]= 'fizz'"
      ],
      "execution_count": null,
      "outputs": []
    },
    {
      "cell_type": "code",
      "metadata": {
        "id": "DSlJJBK_u3xA"
      },
      "source": [
        "%%time\n",
        "list_value"
      ],
      "execution_count": null,
      "outputs": []
    },
    {
      "cell_type": "code",
      "metadata": {
        "id": "UqcFSgxPvApo"
      },
      "source": [
        "#now type the enumarate the value \n",
        "numbers = [45, 22, 14, 65, 97, 72]\n",
        "for i , num in enumerate(numbers):\n",
        "\n",
        "  if num %3 ==0 and num %5 ==0:\n",
        "    numbers[i] = 'fizzbuzz'\n",
        "  \n",
        "  elif num %3 ==0:\n",
        "    numbers[i]='fizz'\n",
        "  \n",
        "  elif num %5 ==0:\n",
        "    numbers[i]='buzz'"
      ],
      "execution_count": null,
      "outputs": []
    },
    {
      "cell_type": "code",
      "metadata": {
        "id": "YLoFtkp3xPws"
      },
      "source": [
        "%%time\n",
        "\n",
        "numbers"
      ],
      "execution_count": null,
      "outputs": []
    },
    {
      "cell_type": "code",
      "metadata": {
        "id": "2joAguAnnEMP"
      },
      "source": [
        "def solve_game():\n",
        "  for  i in range(1,100):\n",
        "   if i%3==0 and i%5==0:\n",
        "    print(i, \"fizzbuzz\")\n",
        "   elif i%3==0:\n",
        "    print(i,\"fizz\")\n",
        "   elif i%5==0:\n",
        "    print(i,\"buzz\")\n",
        "\n"
      ],
      "execution_count": null,
      "outputs": []
    },
    {
      "cell_type": "code",
      "metadata": {
        "id": "LyUdU18iyRKX"
      },
      "source": [
        "#we need to start from the count \n",
        "\n",
        "for i , num in enumerate(numbers,start=52):\n",
        "  print(i , num)\n"
      ],
      "execution_count": null,
      "outputs": []
    },
    {
      "cell_type": "code",
      "metadata": {
        "id": "5nuPEhmfy9Nd"
      },
      "source": [
        "#use list as list map and filter \n",
        "number = [4, 2, 1, 6, 9, 7]\n",
        "\n",
        "def square(x):\n",
        "\n",
        "  return x*x\n",
        "\n",
        "print(list(map(square,number)))\n",
        "\n",
        "[square(x) for x in number]\n",
        "\n"
      ],
      "execution_count": null,
      "outputs": []
    },
    {
      "cell_type": "code",
      "metadata": {
        "id": "UgIQlLUkz-5g"
      },
      "source": [
        "def to_odd(x):\n",
        "  return bool( x % 2)\n",
        "\n",
        "print(list(filter(to_odd, number)))\n",
        "\n",
        "[to_odd(x) for x in number]"
      ],
      "execution_count": null,
      "outputs": []
    },
    {
      "cell_type": "code",
      "metadata": {
        "id": "vnbVomVk2KxN"
      },
      "source": [
        "\n",
        "#soted \n",
        "\n",
        "number"
      ],
      "execution_count": null,
      "outputs": []
    },
    {
      "cell_type": "code",
      "metadata": {
        "id": "3vxLphf_22G3"
      },
      "source": [
        "l = sorted(number)\n",
        "l"
      ],
      "execution_count": null,
      "outputs": []
    },
    {
      "cell_type": "code",
      "metadata": {
        "id": "A7AKa3Jt28c5"
      },
      "source": [
        "#sum the value with \n",
        "\n",
        "sum([ i for i in range(1,1001)])"
      ],
      "execution_count": null,
      "outputs": []
    },
    {
      "cell_type": "code",
      "metadata": {
        "id": "0hzYdeqb3vsI"
      },
      "source": [
        "#Handle Missing Dictionary Keys With collections.defaultdict()\n",
        "\n",
        "\"\"\"\n",
        ".get() and .setdefault() work well when you’re setting a default for a single key, but it’s common to want a default value for all possible unset keys, especially when programming in a coding interview context.\n",
        "\n",
        "Pretend you have a group of students, and you need to keep track of their grades on homework assignments.\n",
        "The input value is a list of tuples with the format\n",
        " (student_name, grade), \n",
        "but you want to easily look up all the grades for a single student without iterating over the list.\n",
        "One way to store the grade data uses a dictionary that maps student names to lists of grades:\n",
        "\"\"\"\n",
        "\n",
        "\n",
        "student_grade={}\n",
        "\n",
        "grades =[('Dinesh',  70),\n",
        "        ('Shubham',  80),\n",
        "        ('Ramesh',   60),\n",
        "        ('Dinesh',   90)]\n",
        "\n",
        "\n",
        "for name ,grade in grades:\n",
        "  if name not in student_grade:\n",
        "    student_grade[name]=[]\n",
        "\n",
        "    student_grade[name].append(grade)\n",
        "\n",
        "student_grade\n",
        "\n",
        "\n",
        "\n",
        "\n"
      ],
      "execution_count": null,
      "outputs": []
    },
    {
      "cell_type": "code",
      "metadata": {
        "id": "MdTrD9lDHmuL"
      },
      "source": [
        "# advance libraary \n",
        "\n",
        "\n",
        "from collections import defaultdict\n",
        "student_grades=defaultdict(list)\n",
        "\n",
        "for name,grade in grades:\n",
        "  student_grades[name].append(grade)\n"
      ],
      "execution_count": null,
      "outputs": []
    },
    {
      "cell_type": "code",
      "metadata": {
        "id": "qlSDLJwbKoTK"
      },
      "source": [
        "student_grades"
      ],
      "execution_count": null,
      "outputs": []
    },
    {
      "cell_type": "code",
      "metadata": {
        "id": "aNpr1OKrLa6i"
      },
      "source": [
        "dep = [('Sales', 'John Doe'),\n",
        "       ('Sales', 'Martin Smith'),\n",
        "       ('Accounting', 'Jane Doe'),\n",
        "       ('Marketing', 'Elizabeth Smith'),\n",
        "       ('Marketing', 'Adam Doe'),\n",
        "       ('Accounting','Satyam')]\n",
        "\n",
        "#dep_dic={}\n",
        "\n",
        "dep_dic=defaultdict(list)\n",
        "\n",
        "for departments,employee in dep:\n",
        "  dep_dic[departments].append(employee)\n",
        "\n",
        "\n",
        "\n",
        "\n"
      ],
      "execution_count": null,
      "outputs": []
    },
    {
      "cell_type": "code",
      "metadata": {
        "id": "0H6c85U_NMiA"
      },
      "source": [
        "print(dep_dic)\n"
      ],
      "execution_count": null,
      "outputs": []
    },
    {
      "cell_type": "code",
      "metadata": {
        "id": "fVKTANkINPmV"
      },
      "source": [
        "\n",
        "#now using the set.default \n",
        "\n",
        "from collections import defaultdict\n",
        "dep_d = dict()\n",
        "for department, employee in dep:\n",
        "    dep_d.setdefault(department, []).append(employee)"
      ],
      "execution_count": null,
      "outputs": []
    },
    {
      "cell_type": "code",
      "metadata": {
        "id": "SBkix8hKNYeL"
      },
      "source": [
        "dep_d"
      ],
      "execution_count": null,
      "outputs": []
    },
    {
      "cell_type": "code",
      "metadata": {
        "id": "F0WLneR1NdJR"
      },
      "source": [
        "import pandas as pd\n",
        "import numpy as np\n",
        "import matplotlib.pyplot as plt\n",
        "import seaborn as sns \n",
        "import warnings\n",
        "\n",
        "warnings.filterwarnings(\"ignore\", category=DeprecationWarning)\n",
        "import scipy as sp\n",
        "\n",
        "pd.DataFrame.from_dict(dep_d)"
      ],
      "execution_count": null,
      "outputs": []
    },
    {
      "cell_type": "code",
      "metadata": {
        "id": "Revw0ylGP3WM"
      },
      "source": [
        "#advance python libaray\n",
        "#now grouping the unique item \n",
        "from collections import defaultdict\n",
        "\n",
        "dep_s=defaultdict(set)\n",
        "\n",
        "for department,employee in dep:\n",
        "  dep_s[department].add(employee)"
      ],
      "execution_count": null,
      "outputs": []
    },
    {
      "cell_type": "code",
      "metadata": {
        "id": "Ng1KDQFVTnNi"
      },
      "source": [
        "dep_s"
      ],
      "execution_count": null,
      "outputs": []
    },
    {
      "cell_type": "code",
      "metadata": {
        "id": "DBhvH5SmTxHO"
      },
      "source": [
        "dd= defaultdict(int)\n",
        "\n",
        "for department,_ in dep:\n",
        "  dd[department] +=1\n",
        "\n",
        "dd"
      ],
      "execution_count": null,
      "outputs": []
    },
    {
      "cell_type": "code",
      "metadata": {
        "id": "HNuMvbD0Xdkk"
      },
      "source": [
        "s = 'mississippi'\n",
        "\n",
        "from collections import defaultdict\n",
        "\n",
        "dl =defaultdict(int)\n",
        "\n",
        "for letter in s:\n",
        "  dl[letter] +=1\n"
      ],
      "execution_count": null,
      "outputs": []
    },
    {
      "cell_type": "code",
      "metadata": {
        "id": "IaG5SPNxXqTd"
      },
      "source": [
        "dl"
      ],
      "execution_count": null,
      "outputs": []
    },
    {
      "cell_type": "code",
      "metadata": {
        "id": "Ik4bxliVYdVS"
      },
      "source": [
        "\"\"\"Take a look at the following examples:\n",
        "\n",
        "var += 1 is equivalent to var = var + 1\n",
        "var -= 1 is equivalent to var = var - 1\n",
        "var *= 1 is equivalent to var = var * 1\"\"\""
      ],
      "execution_count": null,
      "outputs": []
    },
    {
      "cell_type": "code",
      "metadata": {
        "id": "sy9rd6C2YsDf"
      },
      "source": [
        "#we can use the \n",
        "\n",
        "from collections import Counter\n",
        "\n",
        "dk=Counter(s)\n",
        "dk\n"
      ],
      "execution_count": null,
      "outputs": []
    },
    {
      "cell_type": "code",
      "metadata": {
        "id": "-3ZLF5GCZLU4"
      },
      "source": [
        "incomes = [('Books', 1250.00),\n",
        "           ('Books', 1300.00),\n",
        "           ('Books', 1420.00),\n",
        "           ('Tutorials', 560.00),\n",
        "           ('Tutorials', 630.00),\n",
        "           ('Tutorials', 750.00),\n",
        "           ('Courses', 2500.00),\n",
        "           ('Courses', 2430.00),\n",
        "           ('Courses', 2750.00),]\n",
        "\n",
        "\n",
        "from collections import defaultdict\n",
        "\n",
        "total_income=defaultdict(float)\n",
        "\n",
        "for product, amount in incomes:\n",
        "  total_income[product] +=amount\n",
        "\n",
        "for product,amount in total_income.items():\n",
        "  print(f'Total Income for {product} : ${amount :,.2f}')"
      ],
      "execution_count": null,
      "outputs": []
    },
    {
      "cell_type": "code",
      "metadata": {
        "id": "zZvyeFXtcEQV"
      },
      "source": [
        "#Generate Permutations and Combinations With itertools\n",
        "\n",
        "import itertools\n",
        "\n",
        "friends = ['Monique', 'Ashish', 'Devon', 'Bernie']\n",
        "\n",
        "list(itertools.permutations(friends,r=2))"
      ],
      "execution_count": null,
      "outputs": []
    },
    {
      "cell_type": "code",
      "metadata": {
        "id": "cY5QF5FPc7C4"
      },
      "source": [
        "list(itertools.combinations(friends,r=2))"
      ],
      "execution_count": null,
      "outputs": []
    },
    {
      "cell_type": "code",
      "metadata": {
        "id": "3pQBz6tDeLny"
      },
      "source": [
        "print(dir(list))\n",
        "print(dir(dict))\n",
        "print(dir(set))\n",
        "print(dir(tuple))\n",
        "#help(dict)\n"
      ],
      "execution_count": null,
      "outputs": []
    },
    {
      "cell_type": "code",
      "metadata": {
        "id": "3mRkZwXbCR7e"
      },
      "source": [
        "\n"
      ],
      "execution_count": null,
      "outputs": []
    },
    {
      "cell_type": "code",
      "metadata": {
        "id": "JzlVoydXTX2e"
      },
      "source": [
        "#whats is the difference between \n",
        "#local scope Variable \n",
        "\n",
        "temp=10\n",
        "\n",
        "def fun():\n",
        "  temp =20\n",
        "  print(temp)\n"
      ],
      "execution_count": null,
      "outputs": []
    },
    {
      "cell_type": "code",
      "metadata": {
        "id": "9fYW9_naVlSb"
      },
      "source": [
        "print(temp)\n",
        "fun()"
      ],
      "execution_count": null,
      "outputs": []
    },
    {
      "cell_type": "code",
      "metadata": {
        "id": "rKINtOvgVoHL"
      },
      "source": [
        "#Now use global varible \n",
        "\n",
        "temp1 =10\n",
        "\n",
        "def fun():\n",
        "  global temp1\n",
        "\n",
        "  temp1=20 \n",
        "  print(temp1)"
      ],
      "execution_count": null,
      "outputs": []
    },
    {
      "cell_type": "code",
      "metadata": {
        "id": "gqmAJ-X0WQ0S"
      },
      "source": [
        "print(temp1)\n",
        "fun()\n",
        "print(temp1)"
      ],
      "execution_count": null,
      "outputs": []
    },
    {
      "cell_type": "code",
      "metadata": {
        "id": "XP9_4C4wWWSa"
      },
      "source": [
        "#how to use the decorator \n",
        "\n",
        "def lowercase_decorator(function):\n",
        "  def wrapper():\n",
        "    fun=function()\n",
        "    string_lowercase = fun.lower()\n",
        "    return string_lowercase\n",
        "  return wrapper\n",
        "\n",
        "def spitter_decorator(function):\n",
        "  def wrapper():\n",
        "    fun=function()\n",
        "    string_spitter=fun.split()\n",
        "    return string_spitter\n",
        "  return wrapper()\n",
        "\n",
        "@spitter_decorator\n",
        "@lowercase_decorator\n",
        "def hello():\n",
        "    return 'Hello World'\n",
        "\n",
        "#hello()\n",
        "\n"
      ],
      "execution_count": null,
      "outputs": []
    },
    {
      "cell_type": "code",
      "metadata": {
        "id": "BGLn-L8hY_9J"
      },
      "source": [
        "\"\"\"# decorator function to capitalize names\n",
        "def names_decorator(function):\n",
        "    def wrapper(arg1, arg2):\n",
        "        arg1 = arg1.capitalize()\n",
        "        arg2 = arg2.capitalize()\n",
        "        string_hello = function(arg1, arg2)\n",
        "        return string_hello\n",
        "    return wrapper\n",
        "\n",
        "@names_decorator\n",
        "def say_hello(name1, name2):\n",
        "    return 'Hello ' + name1 + '! Hello ' + name2 + '!'\n",
        "\n",
        "#say_hello('sara', 'ansh')\"\"\"\""
      ],
      "execution_count": null,
      "outputs": []
    },
    {
      "cell_type": "code",
      "metadata": {
        "id": "ENU1Wo41a3SA"
      },
      "source": [
        "#what is list and tuple \n",
        "\n",
        "#list is mutable but tuple unmutale \n",
        "#list is know as [] and tuple is known as ()\n",
        "\n",
        "#both are different data type \n",
        "\n",
        "\n",
        "my_tuple = ('sara', 6, 5, 0.97)\n",
        "my_list = ['sara', 6, 5, 0.97]\n",
        "\n",
        "#my_tuple[0] ='ansh' it throw the error when we play with that \n",
        "\n",
        "my_list[0]='ansh'\n",
        "\n",
        "print(my_tuple[0])\n",
        "print(my_list[0])"
      ],
      "execution_count": null,
      "outputs": []
    },
    {
      "cell_type": "code",
      "metadata": {
        "id": "-jr7WuMEccJM"
      },
      "source": [
        "#12. What are Dict and List comprehensions?\n",
        "\n",
        "\n",
        "my_list = [2, 3, 5, 7, 11]\n",
        "\n",
        "\n",
        "#list comprehensions \n",
        "\n",
        "print([x**2 for x in my_list])\n",
        "#dic compreshension \n",
        "\n",
        "dic={x :x**2 for x in my_list}\n",
        "dic"
      ],
      "execution_count": null,
      "outputs": []
    },
    {
      "cell_type": "code",
      "metadata": {
        "id": "hkyBZHJIdPgs"
      },
      "source": [
        "dic.keys()\n",
        "dic.values()\n",
        "dic.items()"
      ],
      "execution_count": null,
      "outputs": []
    },
    {
      "cell_type": "markdown",
      "metadata": {
        "id": "TUi5omUdgNtZ"
      },
      "source": [
        "#Performing conditional filtering operations on the entire list"
      ]
    },
    {
      "cell_type": "code",
      "metadata": {
        "id": "AqqSPwiBfikD"
      },
      "source": [
        "squared_list = [x**2 for x in my_list if x%2 != 0]  \n",
        "squared_list"
      ],
      "execution_count": null,
      "outputs": []
    },
    {
      "cell_type": "code",
      "metadata": {
        "id": "Ek6azLzogXXA"
      },
      "source": [
        "squared_dict = {x:x**2 for x in my_list if x%2 != 0} \n",
        "squared_dict"
      ],
      "execution_count": null,
      "outputs": []
    },
    {
      "cell_type": "code",
      "metadata": {
        "id": "zgYZraODgire"
      },
      "source": [
        "#Combining multiple lists into one\n",
        "\n",
        "a = [1, 2, 3]\n",
        "b = [7, 8, 9]\n",
        "\n",
        "print([(x + y) for (x,y) in zip(a,b)] )  # parallel iterators\n",
        "[(x,y) for x in a for y in b]   #nested iterators\n",
        "\n"
      ],
      "execution_count": null,
      "outputs": []
    },
    {
      "cell_type": "code",
      "metadata": {
        "id": "AN3DrFFFhIXG"
      },
      "source": [
        "#how to add multiple list \n",
        "#we can use map filter \n",
        "\n",
        "my_list = [[10,20,30],[40,50,60],[70,80,90]]\n",
        "\n",
        "flattened = [x for temp in my_list for x in temp]\n",
        "flattened"
      ],
      "execution_count": null,
      "outputs": []
    },
    {
      "cell_type": "code",
      "metadata": {
        "id": "SAtKnpVKiPQ6"
      },
      "source": [
        "from copy import copy, deepcopy\n",
        "\n",
        "list_1 = [1, 2, [3, 5], 4]\n",
        "\n",
        "## shallow copy\n",
        "\n",
        "list_2 = copy(list_1) \n",
        "list_2[3] = 7\n",
        "list_2[2].append(6)\n",
        "\n",
        "list_2    # output => [1, 2, [3, 5, 6], 7]\n",
        "list_1    # output => [1, 2, [3, 5, 6], 4]\n",
        "\n",
        "## deep copy\n",
        "\n",
        "list_3 = deepcopy(list_1)\n",
        "list_3[3] = 8\n",
        "list_3[2].append(7)\n",
        "\n",
        "list_3    # output => [1, 2, [3, 5, 6, 7], 8]\n",
        "list_1    # output => [1, 2, [3, 5, 6], 4]"
      ],
      "execution_count": null,
      "outputs": []
    },
    {
      "cell_type": "code",
      "metadata": {
        "id": "4jwjlhXnjOLo"
      },
      "source": [
        "\"Hello World\"[:: -1]"
      ],
      "execution_count": null,
      "outputs": []
    },
    {
      "cell_type": "code",
      "metadata": {
        "id": "RXCPSg0Em0gD"
      },
      "source": [
        "func = lambda a, b : (a ** b)\n",
        "func(float(10),20)"
      ],
      "execution_count": null,
      "outputs": []
    },
    {
      "cell_type": "code",
      "metadata": {
        "id": "PMtsQWtrodQz"
      },
      "source": [
        "list1 = ['s', 'r', 'a', 's']\n",
        "list2 = ['a', 'a', 'n', 'h']\n",
        "[\"\".join([i, j]) for i, j in zip(list1, list2)]"
      ],
      "execution_count": null,
      "outputs": []
    },
    {
      "cell_type": "code",
      "metadata": {
        "id": "M30RFPRKpNxE"
      },
      "source": [
        "from time import time\n",
        "\n",
        "# 1 January 1970 is the standard date that all computers measure time against \n",
        "# Prints the number of seconds that have passed since 1 January 1970\n",
        "import time\n",
        "print(\"time.time(): %f \" %  time.time())\n",
        "print(time.localtime( time.time()))\n",
        "print(time.asctime( time.localtime(time.time())))"
      ],
      "execution_count": null,
      "outputs": []
    },
    {
      "cell_type": "code",
      "metadata": {
        "id": "Kjx_d4rSpcA7"
      },
      "source": [
        "list1 = [3,4,5,2,1,0]"
      ],
      "execution_count": null,
      "outputs": []
    },
    {
      "cell_type": "code",
      "metadata": {
        "id": "KeY8miAzqIhU"
      },
      "source": [
        "list1.pop(1)"
      ],
      "execution_count": null,
      "outputs": []
    },
    {
      "cell_type": "code",
      "metadata": {
        "id": "y_dY0gNSqMOI"
      },
      "source": [
        "def main():\n",
        "    print('Running test...')\n",
        "if __name__ == '__main__':\n",
        "    main() "
      ],
      "execution_count": null,
      "outputs": []
    },
    {
      "cell_type": "code",
      "metadata": {
        "id": "pNegekye04Hd"
      },
      "source": [
        "#Object without slots\n",
        "\n",
        "class MyClass(object):\n",
        "      def __init__(self, *args, **kwargs):\n",
        "                self.a = 1\n",
        "                self.b = 2\n",
        "  \n",
        "if __name__ == \"__main__\":\n",
        "     instance = MyClass()\n",
        "     print(instance.__dict__)"
      ],
      "execution_count": null,
      "outputs": []
    },
    {
      "cell_type": "code",
      "metadata": {
        "id": "LmSyHGvY-P_y"
      },
      "source": [
        "#'\n",
        "class MyClass(object):\n",
        "      __slots__=['a', 'b']\n",
        "      def __init__(self, *args, **kwargs):\n",
        "                self.a = 1\n",
        "                self.b = 2\n",
        "  \n",
        "if __name__ == \"__main__\":\n",
        "     instance = MyClass()\n",
        "     print(instance.__slots__)"
      ],
      "execution_count": null,
      "outputs": []
    },
    {
      "cell_type": "code",
      "metadata": {
        "id": "O0iOa1mcAVDS"
      },
      "source": [
        "class A:\n",
        "    def func(self):\n",
        "        print(\"Hi\")\n",
        "    def monkey(self):\n",
        "        print (\"Hi, monkey\")\n",
        "     m.A.func = monkey\n",
        "    a = m.A()\n",
        "    a.func()"
      ],
      "execution_count": null,
      "outputs": []
    },
    {
      "cell_type": "code",
      "metadata": {
        "id": "hDEAf_QEHTfl"
      },
      "source": [
        "class x(object):    \n",
        "    def m1(self):       \n",
        "        print(\"in m1 of x\")\n",
        "\n",
        "class y(x):     \n",
        "    def m2(self):   \n",
        "        print(\"in m2 of y\")\n",
        "\n",
        "class z(x): \n",
        "    def m3(self):   \n",
        "        print(\"in m3 of z\")\n",
        "y1=y()\n",
        "y1.m1()\n",
        "y1.m2()\n",
        "a=y1.__hash__()\n",
        "print(a)\n",
        "z1=z()\n",
        "z1.m1()\n",
        "z1.m3()\n",
        "b=z1.__hash__()\n",
        "print(b)"
      ],
      "execution_count": null,
      "outputs": []
    },
    {
      "cell_type": "code",
      "metadata": {
        "id": "m5hUJgGCIgdY"
      },
      "source": [
        "list = [\"1\", \"4\", \"0\", \"6\", \"9\"]\n",
        "list = [int(i) for i in list]\n",
        "list.sort()\n",
        "print(list)"
      ],
      "execution_count": null,
      "outputs": []
    },
    {
      "cell_type": "code",
      "metadata": {
        "id": "MzYOG8_aJKEG"
      },
      "source": [
        "import numpy as np\n",
        "arr = np.array([1, 3, 2, 4, 5])\n",
        "print(arr.argsort()[-3:][::-1])"
      ],
      "execution_count": null,
      "outputs": []
    },
    {
      "cell_type": "code",
      "metadata": {
        "id": "46LjHbQkJZoD"
      },
      "source": [
        "# What is a namedtuple?\n",
        "\n",
        "# A namedtuple will let us access a tuple's elements using a name/label.\n",
        "\n",
        "# We use the function namedtuple() for this, and import it from collections.\n",
        "\n",
        "from collections import namedtuple\n",
        "result=namedtuple('result','Physics Chemistry Maths') #format\n",
        "Ramayan=result(Physics=86,Chemistry=95,Maths=86) #declaring the tuple\n",
        "Ramayan.Chemistry"
      ],
      "execution_count": null,
      "outputs": []
    },
    {
      "cell_type": "code",
      "metadata": {
        "id": "NjG6QXjIOASP"
      },
      "source": [
        "#over rideing \n",
        "\n",
        "class A:\n",
        "  def sayhello(self):\n",
        "    print(\"Hello I am A\")\n",
        "\n",
        "class B(A):\n",
        "  def sayhello(self):\n",
        "    print(\"Hellow I am B\")"
      ],
      "execution_count": null,
      "outputs": []
    },
    {
      "cell_type": "code",
      "metadata": {
        "id": "zzTSlTGNlcWe"
      },
      "source": [
        "a=A()\n",
        "b=B()\n",
        "a.sayhello()"
      ],
      "execution_count": null,
      "outputs": []
    },
    {
      "cell_type": "code",
      "metadata": {
        "id": "WcY92rdOliBO"
      },
      "source": [
        "b.sayhello()"
      ],
      "execution_count": null,
      "outputs": []
    },
    {
      "cell_type": "code",
      "metadata": {
        "id": "35fSucisl9lS"
      },
      "source": [
        "class Car:\n",
        "  #A simple a attempt to the simplest car \n",
        "\n",
        "  def __init__(self,make ,model ,year):    #attribute and object \n",
        "    self.make=make\n",
        "    self.model=model\n",
        "    self.year=year\n",
        "    self.odometer=0\n",
        "\n",
        "  def get_descriptive_name(self):    #method \n",
        "\n",
        "    long_name=f\"{self.make},{self.model},{self.year}\"\n",
        "    return long_name.title()\n",
        "  \n",
        "  def read_odometer(self):\n",
        "    #print showing the car milage \n",
        "    print(f\"This car has {self.odometer} mile on it.\")\n",
        "\n",
        "  def update_odometer(self,mileage):\n",
        "    #set odometer reading value \n",
        "    if mileage>=self.odometer:\n",
        "      self.odometer=mileage\n",
        "    else:\n",
        "      print(\"you can not rollback an odometer !\")\n",
        "\n",
        "  def increment_odometer(self, miles):\n",
        "    self.odometer +=miles"
      ],
      "execution_count": null,
      "outputs": []
    },
    {
      "cell_type": "code",
      "metadata": {
        "id": "V5U1l-S4pOux"
      },
      "source": [
        "class Battery:\n",
        " #\"\"\"A simple attempt to model a battery for an electric car.\"\"\"\n",
        " def __init__(self, battery_size=75):\n",
        " #\"\"\"Initialize the battery's attributes.\"\"\"\n",
        "  self.battery_size = battery_size\n",
        "\n",
        "\n",
        " def describe_battery(self):\n",
        " #\"\"\"Print a statement describing the battery size.\"\"\"\n",
        "  print(f\"This car has a {self.battery_size}-kWh battery.\")\n",
        "#fix ing the range of the battery\n",
        "\n",
        "\n",
        " def get_range(self):\n",
        "    if self.battery_size==75:\n",
        "      range=270\n",
        "    elif self.battery_size==100:\n",
        "      range=350\n",
        "\n",
        "    print(f\" This car can not go about {range} miles on the full charge.\")\n",
        "\n",
        "      "
      ],
      "execution_count": null,
      "outputs": []
    },
    {
      "cell_type": "code",
      "metadata": {
        "id": "8548OYripSzv"
      },
      "source": [
        "class ElectricCar(Car):\n",
        " #\"\"\"Represent aspects of a car, specific to electric vehicles.\"\"\"\n",
        " def __init__(self, make, model, year):\n",
        " #\"\"\"\n",
        " #Initialize attributes of the parent class.\n",
        " #Then initialize attributes specific to an electric \n",
        "  super().__init__(make, model, year)\n",
        "  self.battery = Battery()\n"
      ],
      "execution_count": null,
      "outputs": []
    },
    {
      "cell_type": "code",
      "metadata": {
        "id": "7lRa-C9jphW3"
      },
      "source": [
        "my_tesla = ElectricCar('tesla', 'models', 2021)\n",
        "print(my_tesla.get_descriptive_name())\n",
        "my_tesla.battery.describe_battery()\n",
        "my_tesla.battery.get_range()\n"
      ],
      "execution_count": null,
      "outputs": []
    },
    {
      "cell_type": "markdown",
      "metadata": {
        "id": "LooEiVI2MKx5"
      },
      "source": [
        "#what is global and local variable ?\n",
        "\n",
        "\"\"\"Variables that are defined inside a function body have a local scope, and those defined outside have a global scope. \n",
        "\n",
        "This means that local variables can be accessed only inside the function in which they are declared, whereas\n",
        " global variables can be accessed throughout the program body by all functions.\"\"\""
      ]
    },
    {
      "cell_type": "code",
      "metadata": {
        "id": "Hjw2OOfupkwi"
      },
      "source": [
        "#whats id difference between the tuple and list \n",
        "\n",
        "#tuple is unmutable and list is mutable \n",
        "\n",
        "#tuple will change if the if the contain the list \n"
      ],
      "execution_count": null,
      "outputs": []
    },
    {
      "cell_type": "code",
      "metadata": {
        "id": "oMiKpiMnMHDY"
      },
      "source": [
        "import time\n",
        "print(\"Welcome to Real Python!\")\n",
        "time.sleep(3)"
      ],
      "execution_count": null,
      "outputs": []
    },
    {
      "cell_type": "code",
      "metadata": {
        "id": "vdHsk--2PAzO"
      },
      "source": [
        "if (1, 2): print('foo')"
      ],
      "execution_count": null,
      "outputs": []
    },
    {
      "cell_type": "code",
      "metadata": {
        "id": "ibSocvqdTvxT"
      },
      "source": [
        "if 'bar' in {'foo': 1, 'bar': 2, 'baz': 3}:\n",
        "    print(1)\n",
        "    print(2)\n",
        "    if 'a' in 'qux':\n",
        "        print(3)\n",
        "print(4)"
      ],
      "execution_count": null,
      "outputs": []
    },
    {
      "cell_type": "code",
      "metadata": {
        "id": "A_IisjQDVQmv"
      },
      "source": [
        "d = {'a': 0, 'b': 1, 'c': 0}\n",
        "\n",
        "if d['a'] > 0:\n",
        "    print('ok')\n",
        "elif d['b'] > 0:\n",
        "    print('ok')\n",
        "elif d['c'] > 0:\n",
        "    print('ok')\n",
        "elif d['d'] > 0:\n",
        "    print('ok')\n",
        "else:\n",
        "    print('not ok')"
      ],
      "execution_count": null,
      "outputs": []
    },
    {
      "cell_type": "code",
      "metadata": {
        "id": "9Q6H8qc9WKtu"
      },
      "source": [
        "#dictonary "
      ],
      "execution_count": null,
      "outputs": []
    },
    {
      "cell_type": "code",
      "metadata": {
        "id": "Ql_jqDKHWqXu"
      },
      "source": [
        "d = dict(foo=100, bar=200, baz=300)\n",
        "d"
      ],
      "execution_count": null,
      "outputs": []
    },
    {
      "cell_type": "code",
      "metadata": {
        "id": "OPiUkK0yXkWo"
      },
      "source": [
        "d = {}\n",
        "d['foo'] = 100\n",
        "d['bar'] = 200\n",
        "d['baz'] = 300\n",
        "d"
      ],
      "execution_count": null,
      "outputs": []
    },
    {
      "cell_type": "code",
      "metadata": {
        "id": "e0N6d9p8Y85E"
      },
      "source": [
        "d = dict([\n",
        "    ('foo', 100),\n",
        "    ('bar', 200),\n",
        "    ('baz', 300)\n",
        "])"
      ],
      "execution_count": null,
      "outputs": []
    },
    {
      "cell_type": "code",
      "metadata": {
        "id": "Ry-SbvjrZIeJ"
      },
      "source": [
        "d"
      ],
      "execution_count": null,
      "outputs": []
    },
    {
      "cell_type": "code",
      "metadata": {
        "id": "pjfWlY-mZJfa"
      },
      "source": [
        "d = {\n",
        "    ('foo', 100),\n",
        "    ('bar', 200),\n",
        "    ('baz', 300)\n",
        "}"
      ],
      "execution_count": null,
      "outputs": []
    },
    {
      "cell_type": "code",
      "metadata": {
        "id": "olFEEz-fZR3h"
      },
      "source": [
        "d"
      ],
      "execution_count": null,
      "outputs": []
    },
    {
      "cell_type": "code",
      "metadata": {
        "id": "aBxHH-AkZS9A"
      },
      "source": [
        "d = {'foo': 100, 'bar': 200, 'baz': 300}\n",
        "\n"
      ],
      "execution_count": null,
      "outputs": []
    },
    {
      "cell_type": "code",
      "metadata": {
        "id": "uB6DxF21Ziq8"
      },
      "source": [
        "d"
      ],
      "execution_count": null,
      "outputs": []
    },
    {
      "cell_type": "code",
      "metadata": {
        "id": "4EtnL1kcZjpi"
      },
      "source": [
        "#how to acces the value of the 30 \n",
        "\n",
        "x = [\n",
        "    'a',\n",
        "    'b',\n",
        "    {\n",
        "        'foo': 1,\n",
        "        'bar':\n",
        "        {\n",
        "            'x' : 10,\n",
        "            'y' : 20,\n",
        "            'z' : 30\n",
        "        },\n",
        "        'baz': 3\n",
        "    },\n",
        "    'c',\n",
        "    'd'\n",
        "    ]"
      ],
      "execution_count": null,
      "outputs": []
    },
    {
      "cell_type": "code",
      "metadata": {
        "id": "IiT3lVY8a7BR"
      },
      "source": [
        "x[2].keys()"
      ],
      "execution_count": null,
      "outputs": []
    },
    {
      "cell_type": "code",
      "metadata": {
        "id": "0DxZJ3axcWRH"
      },
      "source": [
        "x[2].values()"
      ],
      "execution_count": null,
      "outputs": []
    },
    {
      "cell_type": "code",
      "metadata": {
        "id": "QhP3tX0HfHZy"
      },
      "source": [
        "x[2]['bar']['z']\n"
      ],
      "execution_count": null,
      "outputs": []
    },
    {
      "cell_type": "code",
      "metadata": {
        "id": "FTsdOlvag9-O"
      },
      "source": [
        "dict(foo=1, bar=2)"
      ],
      "execution_count": null,
      "outputs": []
    },
    {
      "cell_type": "code",
      "metadata": {
        "id": "ioeOaJUKhh_p"
      },
      "source": [
        "'z' in x[2]"
      ],
      "execution_count": null,
      "outputs": []
    },
    {
      "cell_type": "code",
      "metadata": {
        "id": "gyAeFfJnhzBk"
      },
      "source": [
        "l1,l2=[1,2,3],[5,6,7,8]\n",
        "l1.append(l2)\n",
        "l1"
      ],
      "execution_count": null,
      "outputs": []
    },
    {
      "cell_type": "code",
      "metadata": {
        "id": "_GB1mXeKwfjC"
      },
      "source": [
        "l1.extend(l2)"
      ],
      "execution_count": null,
      "outputs": []
    },
    {
      "cell_type": "code",
      "metadata": {
        "id": "4C9omf42wnPM"
      },
      "source": [
        "l1"
      ],
      "execution_count": null,
      "outputs": []
    },
    {
      "cell_type": "markdown",
      "metadata": {
        "id": "KqKBg_iFfN1T"
      },
      "source": [
        "#how-do-i-use-kwargs-in-python-3-class-init-function\n",
        "https://stackoverflow.com/questions/60418497/how-do-i-use-kwargs-in-python-3-class-init-function"
      ]
    },
    {
      "cell_type": "code",
      "metadata": {
        "id": "Mn8bUic0dGJn"
      },
      "source": [
        "class MathematicalModel:\n",
        "    def __init__(self, var1, var2, var3, **kwargs):\n",
        "        self.var1 = var1\n",
        "        self.var2 = var2\n",
        "        self.var3 = var3\n",
        "        self.__dict__.update(kwargs)  # Store all the extra variables\n",
        "\n",
        "\n",
        "class MathematicalModelExtended(MathematicalModel):\n",
        "    def __init__(self, var1, var2, var3, **kwargs):\n",
        "        super().__init__(var1, var2, var3, **kwargs)\n",
        "\n",
        "    def option1(self):\n",
        "        # Trap error if you need var4 to be specified\n",
        "        if 'var4' not in self.__dict__:\n",
        "            raise ValueError(\"Please provide value for var4\")\n",
        "\n",
        "        x = (self.var1 + self.var2 + self.var3) / self.var4\n",
        "        return x\n",
        "\n",
        "    def option2(self):\n",
        "        # Use .get() to provide a default value when the user does not provide it.\n",
        "        _var4 = self.__dict__.get('var4', 1)\n",
        "\n",
        "        x = (self.var1 + self.var2 + self.var3) / self.var4\n",
        "        return x\n",
        "\n",
        "\n",
        "math=MathematicalModelExtended(var1=1,var2=3,var3=4,b=\"satyam\")\n",
        "print(math)\n",
        "\n",
        "print(math.option1)\n",
        "print(math.option2)\n",
        "print(math.b)"
      ],
      "execution_count": null,
      "outputs": []
    },
    {
      "cell_type": "code",
      "metadata": {
        "id": "2aoTJdcJwszG"
      },
      "source": [
        "from dataclasses import dataclass,make_dataclass\n",
        "dataclass()\n",
        "\n",
        "#https://realpython.com/python-data-classes/"
      ],
      "execution_count": null,
      "outputs": []
    },
    {
      "cell_type": "code",
      "metadata": {
        "id": "YbwlEMRTv4XU"
      },
      "source": [
        "@dataclass\n",
        "class Cordinate:\n",
        "  x: int\n",
        "  y: int \n",
        "  z: int \n",
        "\n"
      ],
      "execution_count": null,
      "outputs": []
    },
    {
      "cell_type": "code",
      "metadata": {
        "id": "4e-bnTpeZc47"
      },
      "source": [
        "cr=Cordinate(3,4,5)\n",
        "cr"
      ],
      "execution_count": null,
      "outputs": []
    },
    {
      "cell_type": "code",
      "metadata": {
        "id": "KAQdGZb_ZqqA"
      },
      "source": [
        "\n",
        "\n",
        "from dataclasses import dataclass\n",
        "\n",
        "@dataclass\n",
        "\n",
        "class Circlearea:\n",
        "  r :int\n",
        "  pi:float=3.14\n",
        "  \n",
        "  @property\n",
        "  def area(self):\n",
        "    return self.pi * (self.r ** 2)\n",
        "\n",
        "\n",
        "\n",
        "\n"
      ],
      "execution_count": null,
      "outputs": []
    },
    {
      "cell_type": "code",
      "metadata": {
        "id": "IF5lViKlcNc0"
      },
      "source": [
        "a=Circlearea(2)\n",
        "print(repr(a))\n",
        "print(a.area)"
      ],
      "execution_count": null,
      "outputs": []
    },
    {
      "cell_type": "code",
      "metadata": {
        "id": "66uIvSQNcqwy"
      },
      "source": [
        "print(dir(dataclass))\n",
        "help(dataclass)\n",
        "#print(help(make_dataclass))"
      ],
      "execution_count": null,
      "outputs": []
    },
    {
      "cell_type": "code",
      "metadata": {
        "id": "gqO_vbtnculH"
      },
      "source": [
        "#hence the data is class is mutable  so the we can modify the value with with some code and decorator \n",
        "\n",
        "\n",
        "from dataclasses import dataclass\n",
        "\n",
        "\n",
        "@dataclass\n",
        "\n",
        "class Circlearea:\n",
        "  r:int\n",
        "  pi:float=3.14\n",
        "\n",
        "  @property\n",
        "  def area(self):\n",
        "    return self.pi * (self.r ** 2)\n",
        "\n",
        "\n",
        "a=Circlearea(2)\n",
        "\n",
        "a.r=5\n",
        "\n",
        "print(repr(a))\n",
        "\n",
        "print(a.area)\n",
        "    \n",
        "\n"
      ],
      "execution_count": null,
      "outputs": []
    },
    {
      "cell_type": "code",
      "metadata": {
        "id": "6uJceJe1f89-"
      },
      "source": [
        "#Immutable example\n",
        "\"\"\"As we set frozen to True , we can’t assign value to fields anymore. You can see the\n",
        "exception output on the example below\"\"\"\n",
        "\n",
        "from dataclasses import dataclass\n",
        "\n",
        "@dataclass(frozen=True)\n",
        "class Circlearea:\n",
        "\n",
        "  r:int\n",
        "  pi:float=3.14\n",
        "\n",
        "  @property\n",
        "  def area(self):\n",
        "    return self.pi * (self.r ** 2)\n",
        "\n",
        "a=Circlearea(2)\n",
        "a.r=5 \n",
        "print(repr(a))\n",
        "print(a.area)\n",
        "\n",
        "#hence it show the error because it is now immutable it can not be modified\n",
        "#FrozenInstanceError: cannot assign to field 'r'"
      ],
      "execution_count": null,
      "outputs": []
    },
    {
      "cell_type": "code",
      "metadata": {
        "id": "Zruu6KC2imJm"
      },
      "source": [
        "\"\"\"Imagine that you want to create a data class which represents a Vector and you want to\n",
        "compare them. How would you do that? To do that, you need methods like __lt__ or\n",
        "__gt__ to compare them.By default, order parameter of data class is False . When you set it to True ; __lt__ ,\n",
        "__le__ , __gt__ and __ge__ methods will be automagically generated for your data class.\n",
        "So you can make comparison of objects as if they were tuples of their fields in order.\"\"\"\n",
        "\n",
        "from dataclasses import dataclass,field\n",
        "\n",
        "@dataclass(order=True)\n",
        "class Vector:\n",
        " x: int\n",
        " y: int\n",
        "v1 = Vector(8, 15)\n",
        "v2 = Vector(7, 20)\n",
        "\n",
        "print(v2 > v1)\n",
        "\n",
        "\n",
        "\n"
      ],
      "execution_count": null,
      "outputs": []
    },
    {
      "cell_type": "code",
      "metadata": {
        "id": "S-_r4q4mkiac"
      },
      "source": [
        "\"\"\"In this case, we will benefit from field function and __post_init__ method. field\n",
        "function will help us customize magnitude field. __post_init__ method will help us\n",
        "determine magnitude of that vector after initialization.\n",
        "We customize magnitude field by using field function from dataclasses. By setting init\n",
        "to False , we basically say we don’t want magnitude parameter in __init__ method.\n",
        "Because we want to determine its value using __post_init__ method after initialization\"\"\"\n",
        "\n",
        "@dataclass(order= True)\n",
        "class Vector:\n",
        "\n",
        "  magnitude: float=field(init=False)\n",
        "\n",
        "  x:int\n",
        "  y:int\n",
        "\n",
        "  def __post_init__(self):\n",
        "\n",
        "    self.magnitude = (self.x ** 2 + self.y ** 2) ** 0.5\n",
        "\n",
        "\n",
        "v1=Vector(9,12)\n",
        "print(v1)\n",
        "v2=Vector(12,10)\n",
        "print(v2)\n",
        "print(v2>v1)\n",
        "\n",
        "\n",
        "\n"
      ],
      "execution_count": null,
      "outputs": []
    },
    {
      "cell_type": "code",
      "metadata": {
        "id": "N3WI7LLvnQxx"
      },
      "source": [
        "\"\"\"#Convert it to dictionary or tuple\n",
        "You can get attributes of your data class in a tuple or dict. All you need is to import\n",
        "asdict and astuple functions from dataclasses.\"\"\"\n",
        "\n",
        "\n",
        "from dataclasses import dataclass,asdict,astuple\n",
        "\n",
        "@dataclass\n",
        "class Datatype:\n",
        "  x: int\n",
        "  y: int\n",
        "  z: int \n",
        "\n",
        "a=Datatype(2,3,5)\n",
        "print(a)\n",
        "\n",
        "print(asdict(a))\n",
        "print(astuple(a))\n"
      ],
      "execution_count": null,
      "outputs": []
    },
    {
      "cell_type": "code",
      "metadata": {
        "id": "1PJq4frPqYg4"
      },
      "source": [
        "\"\"\"Inheritance\n",
        "You can subclass dataclasses like normal classes in Python.\"\"\"\n",
        "\n",
        "from dataclasses import dataclass\n",
        "\n",
        "@dataclass\n",
        "class Employee:\n",
        "  name:str\n",
        "  lang:str\n",
        "  \n",
        "\n",
        "@dataclass\n",
        "class Devloper(Employee):\n",
        "  salary:int\n",
        "\n",
        "e=Employee(\"Satyam\",\"Python\")\n",
        "print(e)\n",
        "\n",
        "\n",
        "d1=Devloper(e.name,e.lang,salary=3000)\n",
        "print(d1)\n"
      ],
      "execution_count": null,
      "outputs": []
    },
    {
      "cell_type": "code",
      "metadata": {
        "id": "nQe5YJzAsyjW"
      },
      "source": [
        "#assign the value by using this \n",
        "\n",
        "from dataclasses import dataclass\n",
        "\n",
        "@dataclass\n",
        "class Employee:\n",
        " name: str\n",
        " lang: str = 'Python'\n",
        "@dataclass\n",
        "class Developer(Employee):\n",
        " salary: int\n",
        "\n",
        "Halil = Developer('Halil', 'Python', 5000)\n",
        "\n",
        "#hence it shows the error \n",
        "\n",
        "\n"
      ],
      "execution_count": null,
      "outputs": []
    },
    {
      "cell_type": "code",
      "metadata": {
        "id": "2mhJXmSVvyDo"
      },
      "source": [
        "#To see why, let’s see how our __init__ method looks like. Recall that parameters with\n",
        "#default value should come after parameters with no default value.\n",
        "#def __init__(name: str, lang: str = 'Python', salary: int):"
      ],
      "execution_count": null,
      "outputs": []
    },
    {
      "cell_type": "code",
      "metadata": {
        "id": "WTt0t4GgvSR-"
      },
      "source": [
        "from dataclasses import dataclass\n",
        "@dataclass\n",
        "class Employee:\n",
        " name: str\n",
        " lang: str = 'Python'\n",
        "@dataclass\n",
        "class Developer(Employee):\n",
        " salary: int=0\n",
        "Halil = Developer('Satyam', 'Python', 5000)\n",
        "\n",
        "print(Halil)"
      ],
      "execution_count": null,
      "outputs": []
    },
    {
      "cell_type": "code",
      "metadata": {
        "id": "z7-4N_A56p3_"
      },
      "source": [
        "print(dir(make_dataclass))\n",
        "print(help(make_dataclass))"
      ],
      "execution_count": null,
      "outputs": []
    },
    {
      "cell_type": "code",
      "metadata": {
        "id": "fxaV9vOa64i9"
      },
      "source": [
        "from dataclasses import make_dataclass\n",
        "\n",
        "Position = make_dataclass('Position', ['name', 'lat', 'lon'])"
      ],
      "execution_count": null,
      "outputs": []
    },
    {
      "cell_type": "code",
      "metadata": {
        "id": "TW6n_S_h8ERO"
      },
      "source": [
        "dir(Position)\n",
        "help(Position)"
      ],
      "execution_count": null,
      "outputs": []
    },
    {
      "cell_type": "code",
      "metadata": {
        "id": "DKxx-h4U8Hsn"
      },
      "source": [
        "Position(\"Satyam\",25,1995)"
      ],
      "execution_count": null,
      "outputs": []
    },
    {
      "cell_type": "code",
      "metadata": {
        "id": "RK_QhtbN8pqS"
      },
      "source": [
        "l1=[10,40,80,35,60,70,89]\n",
        "l2=[45,20,46,67,85,34,28]\n"
      ],
      "execution_count": null,
      "outputs": []
    },
    {
      "cell_type": "code",
      "metadata": {
        "id": "NijxsP9tFmu9"
      },
      "source": [
        ""
      ],
      "execution_count": null,
      "outputs": []
    },
    {
      "cell_type": "code",
      "metadata": {
        "id": "DtS_-KDvCoAf"
      },
      "source": [
        "l2.sort()\n",
        "l2"
      ],
      "execution_count": null,
      "outputs": []
    },
    {
      "cell_type": "code",
      "metadata": {
        "id": "-zomM9pa9Fxx"
      },
      "source": [
        "l1 += [36]"
      ],
      "execution_count": null,
      "outputs": []
    },
    {
      "cell_type": "code",
      "metadata": {
        "id": "V9BO7RbtBzbT"
      },
      "source": [
        "l1 +=l2"
      ],
      "execution_count": null,
      "outputs": []
    },
    {
      "cell_type": "code",
      "metadata": {
        "id": "77zFkrzGB8SS"
      },
      "source": [
        "l1\n",
        "[sum(pair) for pair in zip(l1,l2) ]"
      ],
      "execution_count": null,
      "outputs": []
    },
    {
      "cell_type": "code",
      "metadata": {
        "id": "Y2xT8BX8CPKr"
      },
      "source": [
        "sorted(l1)"
      ],
      "execution_count": null,
      "outputs": []
    },
    {
      "cell_type": "code",
      "metadata": {
        "id": "3mlTbOtMCZtl"
      },
      "source": [
        "l2=[45,20,46,67,85,34,28]\n",
        "l1=['satyam','Bhatt','Shubham','Dinesh','Ramesh','Dell','Pravin']"
      ],
      "execution_count": null,
      "outputs": []
    },
    {
      "cell_type": "code",
      "metadata": {
        "id": "wigSxP4YELvX"
      },
      "source": [
        "dic=dict(zip(l1,l2))\n",
        "dic"
      ],
      "execution_count": null,
      "outputs": []
    },
    {
      "cell_type": "code",
      "metadata": {
        "id": "gsMlfCRyGsov"
      },
      "source": [
        "#exception handing \n"
      ],
      "execution_count": null,
      "outputs": []
    },
    {
      "cell_type": "markdown",
      "metadata": {
        "id": "jz6lhYNIU1mE"
      },
      "source": [
        "\n",
        "\n",
        "```\n",
        "# This is formatted as code\n",
        "BaseException\n",
        " +-- SystemExit                   # Raised by the sys.exit() function.\n",
        " +-- KeyboardInterrupt            # Raised when the user hits the interrupt key (ctrl-c).\n",
        " +-- Exception                    # User-defined exceptions should be derived from this class.\n",
        "      +-- ArithmeticError         # Base class for arithmetic errors.\n",
        "      |    +-- ZeroDivisionError  # Raised when dividing by zero.\n",
        "      +-- AttributeError          # Raised when an attribute is missing.\n",
        "      +-- EOFError                # Raised by input() when it hits end-of-file condition.\n",
        "      +-- LookupError             # Raised when a look-up on a collection fails.\n",
        "      |    +-- IndexError         # Raised when a sequence index is out of range.\n",
        "      |    +-- KeyError           # Raised when a dictionary key or set element is not found.\n",
        "      +-- NameError               # Raised when a variable name is not found.\n",
        "      +-- OSError                 # Errors such as “file not found” or “disk full” (see Open).\n",
        "      |    +-- FileNotFoundError  # When a file or directory is requested but doesn't exist.\n",
        "      +-- RuntimeError            # Raised by errors that don't fall into other categories.\n",
        "      |    +-- RecursionError     # Raised when the maximum recursion depth is exceeded.\n",
        "      +-- StopIteration           # Raised by next() when run on an empty iterator.\n",
        "      +-- TypeError               # Raised when an argument is of wrong type.\n",
        "      +-- ValueError              # When an argument is of right type but inappropriate value.\n",
        "           +-- UnicodeError       # Raised when encoding/decoding strings to/from bytes fails.\n",
        "\n",
        "\n",
        "           +-----------+------------+------------+------------+\n",
        "|           |    List    |    Set     |    Dict    |\n",
        "+-----------+------------+------------+------------+\n",
        "| getitem() | IndexError |            |  KeyError  |\n",
        "| pop()     | IndexError |  KeyError  |  KeyError  |\n",
        "| remove()  | ValueError |  KeyError  |            |\n",
        "| index()   | ValueError |            |            |\n",
        "+-----------+------------+------------+------------+\n",
        "```\n",
        "\n"
      ]
    },
    {
      "cell_type": "code",
      "metadata": {
        "id": "V_sdJFfPG6u0"
      },
      "source": [
        "#passing the both *arg and **kwarg\n",
        "#we are acess value for that try find the value in function given\n",
        "\n",
        "\n",
        "\n",
        "class Foo(object):\n",
        "  \n",
        "    def __init__(self, *value1, **value2):\n",
        "      \n",
        "# do something with the values\n",
        "        print('I think something is being called here')\n",
        "        print(value1, value2)\n",
        "\n",
        "\n",
        "class MyFoo(Foo):\n",
        "    def __init__(self, *args, **kwargs):\n",
        "# do something else, don't care about the args\n",
        "        print(args, kwargs)\n",
        "        super(MyFoo, self).__init__(*args, **kwargs)\n",
        "\n",
        "\n",
        "foo = MyFoo('Python', 2.7, stack='overflow')\n",
        "print(foo)"
      ],
      "execution_count": null,
      "outputs": []
    },
    {
      "cell_type": "code",
      "metadata": {
        "id": "S6-5L2N5rs8C"
      },
      "source": [
        "# Python code to demonstrate example of \n",
        "# hierarchical inheritance\n",
        "\n",
        "class Details:\n",
        "    def __init__(self):\n",
        "        self.__id=\"<No Id>\"\n",
        "        self.__name=\"<No Name>\"\n",
        "        self.__gender=\"<No Gender>\"\n",
        "    def setData(self,id,name,gender):\n",
        "        self.__id=id\n",
        "        self.__name=name\n",
        "        self.__gender=gender\n",
        "    def showData(self):\n",
        "        print(\"Id: \",self.__id)\n",
        "        print(\"Name: \", self.__name)\n",
        "        print(\"Gender: \", self.__gender)\n",
        "\n",
        "class Employee(Details): #Inheritance\n",
        "    def __init__(self):\n",
        "        self.__company=\"<No Company>\"\n",
        "        self.__dept=\"<No Dept>\"\n",
        "    def setEmployee(self,id,name,gender,comp,dept):\n",
        "        self.setData(id,name,gender)\n",
        "        self.__company=comp\n",
        "        self.__dept=dept\n",
        "    def showEmployee(self):\n",
        "        self.showData()\n",
        "        print(\"Company: \", self.__company)\n",
        "        print(\"Department: \", self.__dept)\n",
        "\n",
        "class Doctor(Details): #Inheritance\n",
        "    def __init__(self):\n",
        "        self.__hospital=\"<No Hospital>\"\n",
        "        self.__dept=\"<No Dept>\"\n",
        "    def setEmployee(self,id,name,gender,hos,dept):\n",
        "        self.setData(id,name,gender)\n",
        "        self.__hospital=hos\n",
        "        self.__dept=dept\n",
        "    def showEmployee(self):\n",
        "        self.showData()\n",
        "        print(\"Hospital: \", self.__hospital)\n",
        "        print(\"Department: \", self.__dept)\n",
        "\n",
        "def main():\n",
        "    print(\"Employee Object\")\n",
        "    e=Employee()\n",
        "    e.setEmployee(1,\"Prem Sharma\",\"Male\",\"gmr\",\"excavation\")\n",
        "    e.showEmployee()\n",
        "    print(\"\\nDoctor Object\")\n",
        "    d = Doctor()\n",
        "    d.setEmployee(1, \"pankaj\", \"male\", \"aiims\", \"eyes\")\n",
        "    d.showEmployee()\n",
        "\n",
        "if __name__==\"__main__\":\n",
        "    main()\n"
      ],
      "execution_count": null,
      "outputs": []
    },
    {
      "cell_type": "code",
      "metadata": {
        "id": "sYQ50VKZxer-"
      },
      "source": [
        "list = [\"2\", \"5\", \"7\", \"8\", \"1\"]\n",
        "list = [int(i) for i in list]\n",
        "list.sort()\n",
        "print (list)"
      ],
      "execution_count": null,
      "outputs": []
    },
    {
      "cell_type": "code",
      "metadata": {
        "id": "weK8aUlUIBwL"
      },
      "source": [
        "dir(list)"
      ],
      "execution_count": null,
      "outputs": []
    },
    {
      "cell_type": "code",
      "metadata": {
        "id": "U1ta7TSWIWoF"
      },
      "source": [
        "list.reverse()\n",
        "print(list)"
      ],
      "execution_count": null,
      "outputs": []
    },
    {
      "cell_type": "code",
      "metadata": {
        "id": "V2lK-UpKIcBQ"
      },
      "source": [
        "def main():\n",
        "    print('Running test...')\n",
        "if __name__ == '__main__':\n",
        "    main()"
      ],
      "execution_count": null,
      "outputs": []
    },
    {
      "cell_type": "markdown",
      "metadata": {
        "id": "AqbXC5o9YN-F"
      },
      "source": [
        "\n",
        "\n",
        "```\n",
        "\n",
        "Python Program to Find the Largest Number in a List\n",
        "Python Program to Find the Second Largest Number in a List\n",
        "Python Program to Put Even and Odd elements in a List into Two Different Lists\n",
        "Python Program to Merge Two Lists and Sort it\n",
        "Python Program to Sort the List According to the Second Element in Sublist\n",
        "Python Program to Find the Second Largest Number in a List Using Bubble Sort\n",
        "Python Program to Sort a List According to the Length of the Elements\n",
        "Python Program to Find the Union of two Lists\n",
        "Python Program to Find the Intersection of Two Lists\n",
        "Python Program to Create a List of Tuples with the First Element as the Number and Second Element as the Square of the Number\n",
        "Python Program to Find all Numbers in a Range which are Perfect Squares and Sum of all Digits in the Number is Less than 10\n",
        "Python Program to Find the Cumulative Sum of a List where the ith Element is the Sum of the First i+1 Elements From The Original List\n",
        "Python Program to Generate Random Numbers from 1 to 20 and Append Them to the List\n",
        "Python program to Sort a List of Tuples in Increasing Order by the Last Element in Each Tuple\n",
        "Python Program to Swap the First and Last Value of a List\n",
        "Python Program to Remove the Duplicate Items from a List\n",
        "Python Program to Read a List of Words and Return the Length of the Longest One\n",
        "Python Program to Remove the ith Occurrence of the Given Word in a List where Words can Repeat\n",
        "Python Program to Remove All Tuples in a List of Tuples with the USN Outside the Given Range\n",
        "Python Program to solve Maximum Subarray Problem using Divide and Conquer\n",
        "Python Program to solve Maximum Subarray Problem using Kadane’s Algorithm\n",
        "Python Program to Find Element Occurring Odd Number of Times in a List```\n",
        "\n"
      ]
    },
    {
      "cell_type": "code",
      "metadata": {
        "id": "Uh6f9smBYyni"
      },
      "source": [
        "import pandas as pd\n",
        "import numpy as np "
      ],
      "execution_count": null,
      "outputs": []
    },
    {
      "cell_type": "code",
      "metadata": {
        "id": "CI0_U0bCJZSG"
      },
      "source": [
        "l1= [23,44,55,77,778]\n",
        "\n",
        "\n",
        "a=[]\n",
        "\n",
        "n=int(input(\"Enter the elemnet of : \"))\n",
        "for i in range(1,n+1):\n",
        "  b=int(input(\"Enter the element of :\"))\n",
        "  a.append(b)\n",
        "\n",
        "a.sort()\n",
        "print(\"Largest Element is : \", a[n-1])"
      ],
      "execution_count": null,
      "outputs": []
    },
    {
      "cell_type": "code",
      "metadata": {
        "id": "v-USvA3AJdOW"
      },
      "source": [
        "a=[]\n",
        "\n",
        "n=int(input(\"Enter the elemnet: \"))\n",
        "for i in range(1,n+1):\n",
        "  b=int(input(\"Enter the element:\"))\n",
        "  a.append(b)\n",
        "\n",
        "a.sort()\n",
        "print(\"Second largest Element: \", a[n-2])"
      ],
      "execution_count": null,
      "outputs": []
    },
    {
      "cell_type": "code",
      "metadata": {
        "id": "5OeZTRLz0l3F"
      },
      "source": [
        "a=[]\n",
        "\n",
        "n=int(input(\"Enter the elemnet: \"))\n",
        "for i in range(1,n+1):\n",
        "  b=int(input(\"Enter the element:\"))\n",
        "  a.append(b)\n",
        "\n",
        "even=[]\n",
        "odd=[]\n",
        "\n",
        "for j in a:\n",
        "  if (j%2==0):\n",
        "    even.append(j)\n",
        "  else:\n",
        "    odd.append(j)\n",
        "\n",
        "print(\"The even list\",even)\n",
        "print(\"The odd list\",odd)"
      ],
      "execution_count": null,
      "outputs": []
    },
    {
      "cell_type": "code",
      "metadata": {
        "id": "-igFJQU7231p"
      },
      "source": [
        "\n",
        "a=[]\n",
        "\n",
        "n1=int(input(\"Enter the number of element n1: \"))\n",
        "for i in range(1,n1+1):\n",
        "  b=int(input(\"Enter the element:\"))\n",
        "  a.append(b)\n",
        "\n",
        "d=[]\n",
        "\n",
        "n2=int(input(\"Enter the number of Element n2: \"))\n",
        "for i in range(1,n2+1):\n",
        "  c=int(input(\"Enter the element:\"))\n",
        "  d.append(c)\n",
        "\n",
        "\n",
        "new =a+d\n",
        "\n",
        "new.sort()\n",
        "\n",
        "print(\" Sortest list is : \",new)\n",
        "\n"
      ],
      "execution_count": null,
      "outputs": []
    },
    {
      "cell_type": "code",
      "metadata": {
        "id": "rcXMvbMa46EG"
      },
      "source": [
        "#find the union of the two list   \n",
        "\n",
        "l1=[]\n",
        "\n",
        "num1=int(input(\"Enter the size of list l1 :\"))\n",
        "\n",
        "for i in range(num1):\n",
        "  number1=int(input(\"Enter the Element : \"))\n",
        "  l1.append(number1)\n",
        "\n",
        "l2=[]\n",
        "\n",
        "num2=int(input(\"Enter the size of list l1 :\"))\n",
        "\n",
        "for i in range(num2):\n",
        "  number2=int(input(\"Enter the Element : \"))\n",
        "  l2.append(number2)\n",
        "\n",
        "\n",
        "union = list(set().union(l1,l2))\n",
        " \n",
        "print('The Union of two lists is:',union)\n",
        "\n",
        "\n",
        "\n",
        "\n",
        "\n"
      ],
      "execution_count": null,
      "outputs": []
    },
    {
      "cell_type": "code",
      "metadata": {
        "id": "duZUaBjm59Tq"
      },
      "source": [
        "def intersection(a, b):\n",
        "    return list(set(a) & set(b))\n",
        " \n",
        "def main():\n",
        "    alist=[]\n",
        "    blist=[]\n",
        "    n1=int(input(\"Enter number of elements for list1:\"))\n",
        "    n2=int(input(\"Enter number of elements for list2:\"))\n",
        "    print(\"For list1:\")\n",
        "    for x in range(0,n1):\n",
        "        element=int(input(\"Enter element\" + str(x+1) + \":\"))\n",
        "        alist.append(element)\n",
        "    print(\"For list2:\")\n",
        "    for x in range(0,n2):\n",
        "        element=int(input(\"Enter element\" + str(x+1) + \":\"))\n",
        "        blist.append(element)\n",
        "    print(\"The intersection is :\")\n",
        "    print(intersection(alist, blist))\n",
        "main()\n",
        "\n",
        "\n",
        "\n"
      ],
      "execution_count": null,
      "outputs": []
    },
    {
      "cell_type": "code",
      "metadata": {
        "id": "c0sjJNya6dC-"
      },
      "source": [
        "l_range=int(input(\"Enter the lower range:\"))\n",
        "u_range=int(input(\"Enter the upper range:\"))\n",
        "\n",
        "a=[(x,x**2) for x in range(l_range,u_range+1)]\n",
        "print(a)\n"
      ],
      "execution_count": null,
      "outputs": []
    },
    {
      "cell_type": "code",
      "metadata": {
        "id": "QEbnpus98MPB"
      },
      "source": [
        "import random\n",
        "a=[]\n",
        "n=int(input(\"Enter number of elements:\"))\n",
        "for j in range(n):\n",
        "    a.append(random.randint(1,20))\n",
        "print('Randomised list is: ',a)"
      ],
      "execution_count": null,
      "outputs": []
    },
    {
      "cell_type": "code",
      "metadata": {
        "id": "mXCtwQPKAtFV"
      },
      "source": [
        "a.append(5)"
      ],
      "execution_count": null,
      "outputs": []
    },
    {
      "cell_type": "code",
      "metadata": {
        "id": "51UqyEPMA2EO"
      },
      "source": [
        "a"
      ],
      "execution_count": null,
      "outputs": []
    },
    {
      "cell_type": "code",
      "metadata": {
        "id": "zl8pDiHkA_kM"
      },
      "source": [
        "def last(n):\n",
        "    return n[-1]  \n",
        " \n",
        "def sort(tuples):\n",
        "    return sorted(tuples, key=last)\n",
        " \n",
        "a=input(\"Enter a list of tuples:\")\n",
        "print(\"Sorted:\")\n",
        "print(sort(a))"
      ],
      "execution_count": null,
      "outputs": []
    },
    {
      "cell_type": "code",
      "metadata": {
        "id": "tTmmgKExF2J3"
      },
      "source": [
        "import random\n",
        "a=[]\n",
        "n=int(input(\"Enter number of elements:\"))\n",
        "for j in range(n):\n",
        "    a.append(random.randint(1,50))\n",
        "b=set()\n",
        "\n",
        "unique = []\n",
        "for x in a:\n",
        "    if x not in b:\n",
        "        unique.append(x)\n",
        "        b.add(x)\n",
        "print(\"Non-duplicate items:\")\n",
        "print(unique)"
      ],
      "execution_count": null,
      "outputs": []
    },
    {
      "cell_type": "code",
      "metadata": {
        "id": "WKEbNozqJH11"
      },
      "source": [
        "key= int(input(\"Enter the key (int) is added : \"))\n",
        "value=int(input(\"Enter the value(int) is added : \"))\n",
        "d={}\n",
        "d.update({key:value})\n",
        "print(\"Updated dictionary is : \" )\n",
        "print(d)\n",
        "\n",
        "\n"
      ],
      "execution_count": null,
      "outputs": []
    },
    {
      "cell_type": "code",
      "metadata": {
        "id": "vcia5QOeGT3K"
      },
      "source": [
        "#concatnate the two dictionary in one \n",
        "\n",
        "d1={'A':1,'B':2}\n",
        "d2={'C':3}\n",
        "\n",
        "d1.update(d2)\n",
        "print(\"Updated dictionary is : \" ,d1)"
      ],
      "execution_count": null,
      "outputs": []
    },
    {
      "cell_type": "code",
      "metadata": {
        "id": "ocCaUvCqG3xF"
      },
      "source": [
        "d={'A':1,'B':2,'C':3}\n",
        "key=input(\"Enter the key to check : \")\n",
        "if key in d.keys():\n",
        "  print(\" The key is present in given value : \")\n",
        "  print(d[key])\n",
        "\n",
        "else:\n",
        "  print('Key is not Present')"
      ],
      "execution_count": null,
      "outputs": []
    },
    {
      "cell_type": "code",
      "metadata": {
        "id": "ZQjAFcbmJF_6"
      },
      "source": [
        "n =int(input(\"Enter the number : \"))\n",
        "\n",
        "d={x :x*x for x in range(1,n+1)}\n",
        "print(d)"
      ],
      "execution_count": null,
      "outputs": []
    },
    {
      "cell_type": "code",
      "metadata": {
        "id": "k9zBjo06U8M_"
      },
      "source": [
        "print(d)"
      ],
      "execution_count": null,
      "outputs": []
    },
    {
      "cell_type": "code",
      "metadata": {
        "id": "3kqEJK0LWtqR"
      },
      "source": [
        "print(\"Total sum of the value in dictionary : \")\n",
        "print(sum(d.values()))"
      ],
      "execution_count": null,
      "outputs": []
    },
    {
      "cell_type": "code",
      "metadata": {
        "id": "qkZE3grYXz9R"
      },
      "source": [
        "m1 =[10,20,30,40]\n",
        "m2=[30,40,50,60]\n",
        "\n",
        "m3=dict(zip(m1,m2))\n",
        "print(m3)"
      ],
      "execution_count": null,
      "outputs": []
    },
    {
      "cell_type": "code",
      "metadata": {
        "id": "6v_oOE4PYWw3"
      },
      "source": [
        "print(m3.keys())\n",
        "print(m3.values())"
      ],
      "execution_count": null,
      "outputs": []
    },
    {
      "cell_type": "code",
      "metadata": {
        "id": "7cV5XIn8ZYDq"
      },
      "source": [
        "m3.items()"
      ],
      "execution_count": null,
      "outputs": []
    },
    {
      "cell_type": "code",
      "metadata": {
        "id": "z24kPnUvZmsi"
      },
      "source": [
        "s = input(\"Enter string:\")\n",
        "count = 0\n",
        "vowels = set(\"aeiou\")\n",
        "for letter in s:\n",
        "    if letter in vowels:\n",
        "        count += 1\n",
        "print(\"Count of the vowels is:\")   \n",
        "print(count)"
      ],
      "execution_count": null,
      "outputs": []
    },
    {
      "cell_type": "code",
      "metadata": {
        "id": "YlRWtuY1eGwQ"
      },
      "source": [
        "s1 = input(\"Enter the string_1 : \")\n",
        "s2=input(\"Enter the string_2  \")\n",
        "\n",
        "a = list(set(s1) | set(s2))\n",
        "\n",
        "for i in a:\n",
        "  print(i)\n",
        "\n",
        "\n",
        " "
      ],
      "execution_count": null,
      "outputs": []
    },
    {
      "cell_type": "code",
      "metadata": {
        "id": "9MT5LncPsfcG"
      },
      "source": [
        "#This is a Python Program to find the area of a rectangle using classes.\n",
        "\n",
        "class Triangle():\n",
        "  def __init__(self,breadth,length):\n",
        "    self.breadth=breadth\n",
        "    self.length=length\n",
        "  \n",
        "  def area(self):\n",
        "    return (self.breadth*self.length)/2\n",
        "\n",
        "a=int(input(\"Enter the breadth of the Triangle : \"))\n",
        "b=int(input(\"Enter the length of the Triangle :  \"))\n",
        "\n",
        "obj=Triangle(a,b)\n",
        "print(\"The Triangle of the Triangle is : \",obj.area())\n",
        "\n",
        "\n",
        "\n",
        "\n"
      ],
      "execution_count": null,
      "outputs": []
    },
    {
      "cell_type": "code",
      "metadata": {
        "id": "fMcMQ9yY1-Ww"
      },
      "source": [
        "class check():\n",
        "    def __init__(self):\n",
        "        self.n=[]\n",
        "    def add(self,a):\n",
        "        return self.n.append(a)\n",
        "    def remove(self,b):\n",
        "        self.n.remove(b)\n",
        "    def dis(self):\n",
        "        return (self.n)\n",
        " \n",
        "obj=check()\n",
        " \n",
        "choice=1\n",
        "while choice!=0:\n",
        "    print(\"0. Exit\")\n",
        "    print(\"1. Add\")\n",
        "    print(\"2. Delete\")\n",
        "    print(\"3. Display\")\n",
        "    choice=int(input(\"Enter choice: \"))\n",
        "    if choice==1:\n",
        "        n=int(input(\"Enter number to append: \"))\n",
        "        obj.add(n)\n",
        "        print(\"List: \",obj.dis())\n",
        " \n",
        "    elif choice==2:\n",
        "        n=int(input(\"Enter number to remove: \"))\n",
        "        obj.remove(n)\n",
        "        print(\"List: \",obj.dis())\n",
        " \n",
        "    elif choice==3:\n",
        "        print(\"List: \",obj.dis())\n",
        "    elif choice==0:\n",
        "        print(\"Exiting!\")\n",
        "    else:\n",
        "        print(\"Invalid choice!!\")\n",
        " \n",
        "print()"
      ],
      "execution_count": null,
      "outputs": []
    },
    {
      "cell_type": "code",
      "metadata": {
        "id": "IjVFKkva5FX7"
      },
      "source": [
        "from statistics import mean, median, variance, stdev, pvariance, pstdev\n",
        "from random import random, randint, choice, shuffle, gauss, seed\n",
        "from itertools import product, combinations, combinations_with_replacement, permutations\n",
        "from dataclasses import dataclass, field\n",
        "from dataclasses import make_dataclass\n",
        "from copy import copy, deepcopy\n"
      ],
      "execution_count": null,
      "outputs": []
    },
    {
      "cell_type": "code",
      "metadata": {
        "id": "2TW4B2EQVvPv"
      },
      "source": [
        "#Q - Let list1 = ['s', 'r', 'a', 's'] and list2 = ['a', 'a', 'n', 'h'], what is the output of [\"\".join([i, j]) for i, j in zip(list1, list2)]?\n",
        "\n",
        "list1 = ['s', 'r', 'a', 's']\n",
        "list2 = ['a', 'a', 'n', 'h']\n",
        "\n",
        "print([\"\".join([i,j]) for i ,j in zip(list1,list2)])"
      ],
      "execution_count": null,
      "outputs": []
    },
    {
      "cell_type": "code",
      "metadata": {
        "id": "ph_6f6kziTX3"
      },
      "source": [
        ""
      ],
      "execution_count": null,
      "outputs": []
    },
    {
      "cell_type": "code",
      "metadata": {
        "id": "VKx-l8RMi1gH"
      },
      "source": [
        "def my_fun(*args):\n",
        "  print(\"Today is very hot day\")\n",
        "\n",
        "my_fun(1,2,3)\n",
        "  "
      ],
      "execution_count": null,
      "outputs": []
    },
    {
      "cell_type": "code",
      "metadata": {
        "id": "HXiAzrC7i5Db"
      },
      "source": [
        "fruits = [\"apple\", \"banana\", \"cherry\"]\n",
        "for x in fruits:\n",
        "  print(x)\n",
        "\n",
        "\n"
      ],
      "execution_count": null,
      "outputs": []
    },
    {
      "cell_type": "code",
      "metadata": {
        "id": "Flj7ElnopeRs"
      },
      "source": [
        "def fruit():\n",
        "  for x in fruits:\n",
        "    print(x)"
      ],
      "execution_count": null,
      "outputs": []
    },
    {
      "cell_type": "code",
      "metadata": {
        "id": "AFKvR9Ivp04h"
      },
      "source": [
        "fruit()"
      ],
      "execution_count": null,
      "outputs": []
    },
    {
      "cell_type": "code",
      "metadata": {
        "id": "826P6_VPp5oy"
      },
      "source": [
        "def my_function(*kids):\n",
        "  print(\"The Youngest child is \" + kids[0])\n",
        "\n",
        "\n",
        "my_function(\"Dinesh\",\"Satyam\",\"Shyam\")"
      ],
      "execution_count": null,
      "outputs": []
    },
    {
      "cell_type": "code",
      "metadata": {
        "id": "9f5GCc1yrNa-"
      },
      "source": [
        "def my_function(country = \"Norway\"):\n",
        "  print(\"I am from \" + country)\n",
        "\n",
        "my_function(\"Sweden\")\n",
        "my_function(\"India\")\n",
        "my_function()\n",
        "my_function(\"Brazil\")\n"
      ],
      "execution_count": null,
      "outputs": []
    },
    {
      "cell_type": "code",
      "metadata": {
        "id": "BTKuJSL9r8jh"
      },
      "source": [
        "def my_function(x):\n",
        "  return 5 * x\n",
        "  "
      ],
      "execution_count": null,
      "outputs": []
    },
    {
      "cell_type": "code",
      "metadata": {
        "id": "fzEHpgM_sAAF"
      },
      "source": [
        "my_function(2)"
      ],
      "execution_count": null,
      "outputs": []
    },
    {
      "cell_type": "code",
      "metadata": {
        "id": "mtshHoKQsDLs"
      },
      "source": [
        "def my_function(x):\n",
        "  return list( dict.fromkeys(x) )\n",
        "\n",
        "mylist = my_function([\"a\", \"b\", \"a\", \"c\", \"c\"])\n",
        "\n",
        "print(mylist)"
      ],
      "execution_count": null,
      "outputs": []
    },
    {
      "cell_type": "code",
      "metadata": {
        "id": "5PL1adEMxPjv"
      },
      "source": [
        "list1=[\"a\", \"b\", \"a\", \"c\", \"c\"]\n",
        "\n",
        "print(list(set(list1)))"
      ],
      "execution_count": null,
      "outputs": []
    },
    {
      "cell_type": "code",
      "metadata": {
        "id": "rN3t84w3xpJZ"
      },
      "source": [
        "def fuction():\n",
        "  a=list(set(list1))\n",
        "  return a"
      ],
      "execution_count": null,
      "outputs": []
    },
    {
      "cell_type": "code",
      "metadata": {
        "id": "3z59e-K3yJ0N"
      },
      "source": [
        "fuction()"
      ],
      "execution_count": null,
      "outputs": []
    },
    {
      "cell_type": "code",
      "metadata": {
        "id": "oNIbouRnyL88"
      },
      "source": [
        ""
      ],
      "execution_count": null,
      "outputs": []
    }
  ]
}