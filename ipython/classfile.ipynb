{
 "cells": [
  {
   "cell_type": "code",
   "execution_count": 1,
   "metadata": {},
   "outputs": [],
   "source": [
    "#Working with instance \n",
    "\n",
    "class Car:\n",
    "  #A simple a attempt to the simplest car \n",
    "\n",
    "  def __init__(self,make ,model ,year):\n",
    "    self.make=make\n",
    "    self.model=model\n",
    "    self.year=year\n",
    "\n",
    "  def get_descriptive_name(self):\n",
    "\n",
    "    long_name=f\"{self.make},{self.model},{self.year}\"\n",
    "    return long_name.title()"
   ]
  },
  {
   "cell_type": "code",
   "execution_count": 2,
   "metadata": {},
   "outputs": [
    {
     "name": "stdout",
     "output_type": "stream",
     "text": [
      "Audi,A4,2019\n"
     ]
    }
   ],
   "source": [
    "#make a instance \n",
    "\n",
    "my_new_car=Car(\"audi\", \"a4\" , \"2019\")\n",
    "print(my_new_car.get_descriptive_name())"
   ]
  },
  {
   "cell_type": "code",
   "execution_count": 3,
   "metadata": {},
   "outputs": [],
   "source": [
    "#crate a class method  for the car \n",
    "class Car:\n",
    "    def __init__(self,make,model,year):\n",
    "        self.make=make\n",
    "        self.model=model\n",
    "        self.year=year\n",
    "    \n",
    "    def get_descriptive_name(self):\n",
    "        long_name =f\"{self.make},{self.model},{self.year}\"\n",
    "        return long_name.title()"
   ]
  },
  {
   "cell_type": "code",
   "execution_count": 4,
   "metadata": {},
   "outputs": [
    {
     "name": "stdout",
     "output_type": "stream",
     "text": [
      "Audi,A4,2019\n"
     ]
    }
   ],
   "source": [
    "my_new_car=Car(\"audi\",\"a4\",\"2019\")\n",
    "print(my_new_car.get_descriptive_name())\n"
   ]
  },
  {
   "cell_type": "code",
   "execution_count": 5,
   "metadata": {},
   "outputs": [],
   "source": [
    "#Setting a Default Value for an Attribut\n",
    "class Car:\n",
    "  #A simple a attempt to the simplest car \n",
    "  def __init__(self,make ,model ,year):\n",
    "    self.make=make\n",
    "    self.model=model\n",
    "    self.year=year\n",
    "    self.odometer=0\n",
    "\n",
    "  def get_descriptive_name(self):\n",
    "\n",
    "    long_name=f\"{self.make},{self.model},{self.year}\"\n",
    "    return long_name.title()\n",
    "\n",
    "  def read_odometer(self):\n",
    "    #print showing the car milage \n",
    "    print(f\"This car has {self.odometer} mile on it.\")\n",
    "\n",
    "  def update_odometer(self,mileage):\n",
    "        #setting the odometer to a given value \n",
    "        self.odometer=mileage\n",
    "\n",
    "  def increment_odometer(self,miles):\n",
    "        #incrementing the odometer by a given amount \n",
    "        self.odometer+=miles"
   ]
  },
  {
   "cell_type": "code",
   "execution_count": 6,
   "metadata": {},
   "outputs": [
    {
     "name": "stdout",
     "output_type": "stream",
     "text": [
      "Subaru,Outback,2015\n"
     ]
    }
   ],
   "source": [
    "#instance \n",
    "my_used_car = Car('subaru', 'outback', 2015)\n",
    "print(my_used_car.get_descriptive_name())"
   ]
  },
  {
   "cell_type": "code",
   "execution_count": 7,
   "metadata": {},
   "outputs": [
    {
     "name": "stdout",
     "output_type": "stream",
     "text": [
      "This car has 23500 mile on it.\n"
     ]
    }
   ],
   "source": [
    "#updating the odometer through the data calling the value \n",
    "my_used_car.update_odometer(23_500)\n",
    "my_used_car.read_odometer()"
   ]
  },
  {
   "cell_type": "code",
   "execution_count": 8,
   "metadata": {},
   "outputs": [
    {
     "name": "stdout",
     "output_type": "stream",
     "text": [
      "This car has 23600 mile on it.\n"
     ]
    }
   ],
   "source": [
    "#incrememt the data for method \n",
    "\n",
    "my_used_car.increment_odometer(100)\n",
    "my_used_car.read_odometer()"
   ]
  },
  {
   "cell_type": "markdown",
   "metadata": {},
   "source": [
    "#Inheritance\n",
    "\n",
    "You don’t always have to start from scratch when writing a class. If the class you’re writing is a specialized version of another class you wrote, you can use inheritance. When one class inherits from another, it takes on the attributes and methods of the first class. The original class is called the parent\n",
    "\n",
    "class, and the new class is the child class. The child class can inherit any or all of the attributes and methods of its parent class, but it’s also free to define new attributes and methods of its own."
   ]
  },
  {
   "cell_type": "code",
   "execution_count": 9,
   "metadata": {},
   "outputs": [],
   "source": [
    "#now  company want to buid the ELECTTRIC CAR \n",
    "#Setting a Default Value for an Attribut\n",
    "class Car:\n",
    "  #A simple a attempt to the simplest car \n",
    "  def __init__(self,make ,model ,year):\n",
    "    self.make=make\n",
    "    self.model=model\n",
    "    self.year=year\n",
    "    self.odometer=0\n",
    "\n",
    "  def get_descriptive_name(self):\n",
    "\n",
    "    long_name=f\"{self.make},{self.model},{self.year}\"\n",
    "    return long_name.title()\n",
    "\n",
    "  def read_odometer(self):\n",
    "    #print showing the car milage \n",
    "    print(f\"This car has {self.odometer} mile on it.\")\n",
    "\n",
    "  def update_odometer(self,mileage):\n",
    "        #setting the odometer to a given value \n",
    "        self.odometer=mileage\n",
    "\n",
    "  def increment_odometer(self,miles):\n",
    "        #incrementing the odometer by a given amount \n",
    "        self.odometer+=miles"
   ]
  },
  {
   "cell_type": "code",
   "execution_count": 12,
   "metadata": {},
   "outputs": [],
   "source": [
    "#Defining Attributes and Methods for the Child Class\n",
    "class ElectricCar(Car):\n",
    " #\"\"\"Represent aspects of a car, specific to electric vehicles.\"\"\"\n",
    "\n",
    " def __init__(self, make, model, year):\n",
    " #\"\"\"Initialize attributes of the parent class.\"\"\"\n",
    "     super().__init__(make, model, year)\n",
    "     self.battery_size=75\n",
    "     \n",
    " def describe_battery(self):\n",
    " #\"\"\"Print a statement describing the battery size.\"\"\"\n",
    "    print(f\"This car has a {self.battery_size}-kWh battery.\")  \n",
    "\n",
    "#Overriding Methods from the Parent Class\n",
    "#def fill_gas_tank(self):\n",
    " #\"\"\"Electric cars don't have gas tanks.\"\"\"\n",
    " #print(\"This car doesn't need a gas tank!\")"
   ]
  },
  {
   "cell_type": "code",
   "execution_count": 13,
   "metadata": {},
   "outputs": [
    {
     "name": "stdout",
     "output_type": "stream",
     "text": [
      "Tesla,Models,2019\n",
      "This car has a 75-kWh battery.\n"
     ]
    }
   ],
   "source": [
    "my_tesla = ElectricCar('tesla', 'models', 2019)\n",
    "print(my_tesla.get_descriptive_name())\n",
    "my_tesla.describe_battery()"
   ]
  },
  {
   "cell_type": "code",
   "execution_count": 14,
   "metadata": {},
   "outputs": [],
   "source": [
    "#INSTANCE OF ATTRIBUTES \n",
    "\n",
    "class Car:\n",
    "  #A simple a attempt to the simplest car \n",
    "\n",
    "  def __init__(self,make ,model ,year):    #attribute and object \n",
    "    self.make=make\n",
    "    self.model=model\n",
    "    self.year=year\n",
    "    self.odometer=0\n",
    "\n",
    "  def get_descriptive_name(self):    #method \n",
    "\n",
    "    long_name=f\"{self.make},{self.model},{self.year}\"\n",
    "    return long_name.title()\n",
    "  \n",
    "  def read_odometer(self):\n",
    "    #print showing the car milage \n",
    "    print(f\"This car has {self.odometer} mile on it.\")\n",
    "\n",
    "  def update_odometer(self,mileage):\n",
    "    #set odometer reading value \n",
    "    if mileage>=self.odometer:\n",
    "      self.odometer=mileage\n",
    "    else:\n",
    "      print(\"you can not rollback an odometer !\")\n",
    "\n",
    "  def increment_odometer(self, miles):\n",
    "    self.odometer +=miles"
   ]
  },
  {
   "cell_type": "code",
   "execution_count": 15,
   "metadata": {},
   "outputs": [],
   "source": [
    "class Battery:\n",
    " #\"\"\"A simple attempt to model a battery for an electric car.\"\"\"\n",
    " def __init__(self, battery_size=75):\n",
    " #\"\"\"Initialize the battery's attributes.\"\"\"\n",
    "  self.battery_size = battery_size\n",
    "\n",
    "\n",
    " def describe_battery(self):\n",
    " #\"\"\"Print a statement describing the battery size.\"\"\"\n",
    "  print(f\"This car has a {self.battery_size}-kWh battery.\")\n",
    "#fix ing the range of the battery\n",
    "\n",
    "\n",
    " def get_range(self):\n",
    "    if self.battery_size==75:\n",
    "      range=270\n",
    "    elif self.battery_size==100:\n",
    "      range=350\n",
    "\n",
    "    print(f\" This car can not go about {range} miles on the full charge.\")\n"
   ]
  },
  {
   "cell_type": "code",
   "execution_count": 16,
   "metadata": {},
   "outputs": [],
   "source": [
    "class ElectricCar(Car):\n",
    " #\"\"\"Represent aspects of a car, specific to electric vehicles.\"\"\"\n",
    " def __init__(self, make, model, year):\n",
    " #\"\"\"\n",
    " #Initialize attributes of the parent class.\n",
    " #Then initialize attributes specific to an electric \n",
    "  super().__init__(make, model, year)\n",
    "  self.battery = Battery()"
   ]
  },
  {
   "cell_type": "code",
   "execution_count": 17,
   "metadata": {},
   "outputs": [
    {
     "name": "stdout",
     "output_type": "stream",
     "text": [
      "Tesla,Models,2021\n",
      "This car has a 75-kWh battery.\n",
      " This car can not go about 270 miles on the full charge.\n"
     ]
    }
   ],
   "source": [
    "my_tesla = ElectricCar('tesla', 'models', 2021)\n",
    "print(my_tesla.get_descriptive_name())\n",
    "my_tesla.battery.describe_battery()\n",
    "my_tesla.battery.get_range()"
   ]
  },
  {
   "cell_type": "code",
   "execution_count": null,
   "metadata": {},
   "outputs": [],
   "source": []
  }
 ],
 "metadata": {
  "interpreter": {
   "hash": "553c224c9fecc57353a39b838c1e0cc178e5d166e4293552425ba40fe145979a"
  },
  "kernelspec": {
   "display_name": "Python 3.8.8 64-bit ('base': conda)",
   "language": "python",
   "name": "python3"
  },
  "language_info": {
   "codemirror_mode": {
    "name": "ipython",
    "version": 3
   },
   "file_extension": ".py",
   "mimetype": "text/x-python",
   "name": "python",
   "nbconvert_exporter": "python",
   "pygments_lexer": "ipython3",
   "version": "3.8.8"
  },
  "orig_nbformat": 4
 },
 "nbformat": 4,
 "nbformat_minor": 2
}
